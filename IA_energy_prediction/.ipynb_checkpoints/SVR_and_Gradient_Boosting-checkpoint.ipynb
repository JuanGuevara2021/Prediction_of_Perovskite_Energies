{
 "cells": [
  {
   "cell_type": "code",
   "execution_count": 1,
   "id": "5e34b772",
   "metadata": {},
   "outputs": [],
   "source": [
    "import pandas as pd\n",
    "import numpy as np\n",
    "import time\n",
    "from sklearn import preprocessing\n",
    "from sklearn.model_selection import train_test_split\n",
    "import matplotlib.pyplot as plt\n",
    "import seaborn as sns\n",
    "from sklearn.metrics import mean_squared_error, r2_score, mean_absolute_error\n",
    "from sklearn import ensemble\n",
    "from sklearn.ensemble import GradientBoostingRegressor\n",
    "from sklearn.cluster import KMeans\n",
    "from sklearn.model_selection import cross_val_score\n",
    "from sklearn.model_selection import GridSearchCV \n",
    "from sklearn.ensemble import AdaBoostRegressor\n",
    "from sklearn.preprocessing import StandardScaler\n",
    "import matplotlib.pyplot as plot\n",
    "from sklearn.model_selection import learning_curve \n",
    "from sklearn.svm import SVR\n",
    "from sklearn.pipeline import Pipeline\n",
    "from sklearn.pipeline import make_pipeline\n",
    "from sklearn.preprocessing import StandardScaler"
   ]
  },
  {
   "cell_type": "code",
   "execution_count": 2,
   "id": "142f7d6e",
   "metadata": {},
   "outputs": [],
   "source": [
    "df1 = pd.read_csv('JUAN-Perovskite.csv') #Aqui lo que se hace es cargar los datos.\n",
    "x = df1.drop(\"Band_gap\",axis = 1) #Aqui quitamos la columna que correponde a la energia de gap\n",
    "x = x.drop(\"full_formula\",axis = 1) #Aqui quitamos los normbres de los compuestos \n",
    "y = np.asarray(df1['Band_gap']) #Aqui definimos la cantidad que deseamos predecir, en este caso la energia de gap\n",
    "x = (x-x.mean())/x.std()\n",
    "y = (y-y.mean())/y.std()\n",
    "x = x.fillna(0)"
   ]
  },
  {
   "cell_type": "code",
   "execution_count": 3,
   "id": "8ea982f9",
   "metadata": {},
   "outputs": [
    {
     "name": "stdout",
     "output_type": "stream",
     "text": [
      "Fitting 2 folds for each of 1 candidates, totalling 2 fits\n"
     ]
    }
   ],
   "source": [
    "X_train, X_test, y_train, y_test = train_test_split( x, y, test_size=0.1, random_state=9)\n",
    "steps = [('scaler', StandardScaler()), ('SVM', SVR())]\n",
    "pipeline = Pipeline(steps) \n",
    "grid = GridSearchCV(pipeline, param_grid= {'SVM__C':[100], 'SVM__gamma':['auto'], 'SVM__kernel': ['rbf'],\n",
    "                                           'SVM__epsilon':[0.001]}, cv=2, verbose = 3, n_jobs=-1)\n",
    "grid.fit(X_train, y_train)\n",
    "model = grid.best_estimator_ #Nos quedamos con el mejor modelo"
   ]
  },
  {
   "cell_type": "code",
   "execution_count": 4,
   "id": "674c0d5c",
   "metadata": {},
   "outputs": [
    {
     "name": "stdout",
     "output_type": "stream",
     "text": [
      "ABR Model| R2 sq on train set: 0.8891\n",
      "ABR Model| R2 sq on test set: 0.5019\n",
      "ABR Model| MSE on test set: 0.3750\n",
      "ABR Model| MAE on test set: 0.5077\n"
     ]
    }
   ],
   "source": [
    "#A este entrenamineto se le quito Ehull y Ef\n",
    "#Este entrenamiento muestra el rendimiento, para un entrenamiento, en donde no se considera el rasgo de formation_energy_per_atom\n",
    "#Ademas de que se quita la normalizacion, entonces se quedan los valores reales\n",
    "#Este es el resultado cuando se normalizan los datos\n",
    "abr_score = model.score(X_train,y_train) #Se evalua que tan bien entredo \n",
    "abr_score1 = model.score(X_test,y_test) #Que tan bueno es en el conjunto de test\n",
    "y_predicted = model.predict(X_test) #Hacemos la inferencia con el conjunto test\n",
    "yp = y_predicted# * sb + mb\n",
    "yt = y_test #* sb + mb\n",
    "print('ABR Model| R2 sq on train set: %.4f'% abr_score)  #Mostramos las metricas que se obtuvieron.\n",
    "print('ABR Model| R2 sq on test set: %.4f'% abr_score1)\n",
    "print('ABR Model| MSE on test set: %.4f'% mean_squared_error(yt, yp))\n",
    "print('ABR Model| MAE on test set: %.4f'% mean_absolute_error(yt, yp))"
   ]
  },
  {
   "cell_type": "code",
   "execution_count": 9,
   "id": "d9c5025a",
   "metadata": {},
   "outputs": [
    {
     "name": "stdout",
     "output_type": "stream",
     "text": [
      "ABR Model| R2 sq on train set: 0.9533\n",
      "ABR Model| R2 sq on test set: 0.7385\n",
      "ABR Model| MSE on test set: 0.2206\n",
      "ABR Model| MAE on test set: 0.3371\n"
     ]
    }
   ],
   "source": [
    "#A este entrenamineto se le quito solo Ehull\n",
    "#Este entrenamiento muestra el rendimiento, para un entrenamiento, en donde no se considera el rasgo de formation_energy_per_atom\n",
    "#Ademas de que se quita la normalizacion, entonces se quedan los valores reales\n",
    "#Este es el resultado cuando se normalizan los datos\n",
    "abr_score = model.score(X_train,y_train) #Se evalua que tan bien entredo \n",
    "abr_score1 = model.score(X_test,y_test) #Que tan bueno es en el conjunto de test\n",
    "y_predicted = model.predict(X_test) #Hacemos la inferencia con el conjunto test\n",
    "yp = y_predicted# * sb + mb\n",
    "yt = y_test #* sb + mb\n",
    "print('ABR Model| R2 sq on train set: %.4f'% abr_score)  #Mostramos las metricas que se obtuvieron.\n",
    "print('ABR Model| R2 sq on test set: %.4f'% abr_score1)\n",
    "print('ABR Model| MSE on test set: %.4f'% mean_squared_error(yt, yp))\n",
    "print('ABR Model| MAE on test set: %.4f'% mean_absolute_error(yt, yp))"
   ]
  },
  {
   "cell_type": "code",
   "execution_count": 4,
   "id": "312eb6c8",
   "metadata": {},
   "outputs": [
    {
     "name": "stdout",
     "output_type": "stream",
     "text": [
      "ABR Model| R2 sq on train set: 0.9558\n",
      "ABR Model| R2 sq on test set: 0.7749\n",
      "ABR Model| MSE on test set: 0.1898\n",
      "ABR Model| MAE on test set: 0.3103\n"
     ]
    }
   ],
   "source": [
    "#Este entrenamiento muestra el rendimiento, para un entrenamiento, en donde no se considera el rasgo de formation_energy_per_atom\n",
    "#Ademas de que se quita la normalizacion, entonces se quedan los valores reales\n",
    "#Este es el resultado cuando se normalizan los datos\n",
    "abr_score = model.score(X_train,y_train) #Se evalua que tan bien entredo \n",
    "abr_score1 = model.score(X_test,y_test) #Que tan bueno es en el conjunto de test\n",
    "y_predicted = model.predict(X_test) #Hacemos la inferencia con el conjunto test\n",
    "yp = y_predicted# * sb + mb\n",
    "yt = y_test #* sb + mb\n",
    "print('ABR Model| R2 sq on train set: %.4f'% abr_score)  #Mostramos las metricas que se obtuvieron.\n",
    "print('ABR Model| R2 sq on test set: %.4f'% abr_score1)\n",
    "print('ABR Model| MSE on test set: %.4f'% mean_squared_error(yt, yp))\n",
    "print('ABR Model| MAE on test set: %.4f'% mean_absolute_error(yt, yp))"
   ]
  },
  {
   "cell_type": "code",
   "execution_count": 5,
   "id": "43c1f56f",
   "metadata": {},
   "outputs": [
    {
     "data": {
      "image/png": "[encoded data removed]",
      "text/plain": [
       "<Figure size 432x288 with 1 Axes>"
      ]
     },
     "metadata": {
      "needs_background": "light"
     },
     "output_type": "display_data"
    }
   ],
   "source": [
    "#Aqui podemos ver la diferencia entre el valor desnormalizado de la prediccion y el test y\n",
    "dif = yp-yt\n",
    "plt.hist(x=dif, bins=25, color='#F2AB6D', rwidth=0.85, density = True)\n",
    "plt.title('Histograma de Diferencia entre el valor real y predicho')\n",
    "plt.xlabel('Diferencia')\n",
    "plt.ylabel('Frecuencia')\n",
    "plt.xticks(range(-3,4))\n",
    "plt.show()"
   ]
  },
  {
   "cell_type": "code",
   "execution_count": 6,
   "id": "8d21d7a5",
   "metadata": {},
   "outputs": [
    {
     "data": {
      "image/png": "[encoded data removed]",
      "text/plain": [
       "<Figure size 432x288 with 1 Axes>"
      ]
     },
     "metadata": {
      "needs_background": "light"
     },
     "output_type": "display_data"
    }
   ],
   "source": [
    "plt.plot(yt,yp,'o')\n",
    "plt.plot(y_test,y_test,'o')\n",
    "plt.grid()"
   ]
  },
  {
   "cell_type": "code",
   "execution_count": null,
   "id": "2be4a3fb",
   "metadata": {},
   "outputs": [],
   "source": [
    "x1, y1 = x[:176], y[:176]\n",
    "x2, y2 = x[176:352], y[176:352]\n",
    "x3, y3 = x[352:], y[352:]"
   ]
  },
  {
   "cell_type": "code",
   "execution_count": 7,
   "id": "437c73bf",
   "metadata": {},
   "outputs": [],
   "source": [
    "N = 1200\n",
    "X_train1, X_test1, y_train1, y_test1 = x[:N], x[N:1400], y[:N], y[N:1400]\n",
    "X, Y = x[1400:], y[1400:]"
   ]
  },
  {
   "cell_type": "code",
   "execution_count": 8,
   "id": "962332a2",
   "metadata": {},
   "outputs": [
    {
     "name": "stdout",
     "output_type": "stream",
     "text": [
      "Fitting 2 folds for each of 1 candidates, totalling 2 fits\n"
     ]
    }
   ],
   "source": [
    "steps = [('scaler', StandardScaler()), ('SVM', SVR())]\n",
    "pipeline = Pipeline(steps) \n",
    "grid1 = GridSearchCV(pipeline, param_grid= {'SVM__C':[100], 'SVM__gamma':['auto'], 'SVM__kernel': ['rbf'],\n",
    "                                           'SVM__epsilon':[0.001]}, cv=2, verbose = 3, n_jobs=-1)\n",
    "grid1.fit(X_train1, y_train1)\n",
    "model1 = grid1.best_estimator_ #Nos quedamos con el mejor modelo"
   ]
  },
  {
   "cell_type": "code",
   "execution_count": 9,
   "id": "c0afc68b",
   "metadata": {},
   "outputs": [
    {
     "name": "stdout",
     "output_type": "stream",
     "text": [
      "GBR Model| R2 sq on train set: 0.8829\n",
      "GBR Model| R2 sq on test set: 0.3329\n",
      "GBR Model| MSE on test set: 0.3627\n",
      "GBR Model| MAE on test set: 0.4489\n"
     ]
    }
   ],
   "source": [
    "GBR_score1 = model1.score(X_train1,y_train1) #Aqui obtenemos el valor de R^2 en el conjunto del train\n",
    "GBR_score11 = model1.score(X_test1,y_test1) #Aqui es el R^2 en el conjunto de test\n",
    "y_predicted1 = model1.predict(X_test1) #Aqui se hace la prediccion que valor debe de tener el conjunto de X_test\n",
    "print('GBR Model| R2 sq on train set: %.4f'% GBR_score1) #Lo que hacemos es implimir el valor\n",
    "print('GBR Model| R2 sq on test set: %.4f'% GBR_score11) #Lo que hacemos es implimir el valor\n",
    "print(\"GBR Model| MSE on test set: %.4f\"% mean_squared_error(y_test1, y_predicted1))#Lo que hacemos es ver cual fue el error\n",
    "#de la prediccion con el valor real, utilizando MSE\n",
    "print(\"GBR Model| MAE on test set: %.4f\"% mean_absolute_error(y_test1, y_predicted1))#Lo que hacemos es ver cual fue el error\n",
    "#de la prediccion con el valor real, utilizando MAE"
   ]
  },
  {
   "cell_type": "code",
   "execution_count": 10,
   "id": "d04e0dba",
   "metadata": {},
   "outputs": [
    {
     "data": {
      "image/png": "[encoded data removed]",
      "text/plain": [
       "<Figure size 432x288 with 1 Axes>"
      ]
     },
     "metadata": {
      "needs_background": "light"
     },
     "output_type": "display_data"
    }
   ],
   "source": [
    "dif1 = y_predicted1-y_test1\n",
    "plt.hist(x=dif1, bins=40, color='#F2AB6D', rwidth=0.85)\n",
    "plt.title('Histograma de Diferencia entre el valor real y predicho')\n",
    "plt.xlabel('Diferencia')\n",
    "plt.ylabel('Frecuencia')\n",
    "plt.xticks(range(-3,4))\n",
    "plt.show()"
   ]
  },
  {
   "cell_type": "code",
   "execution_count": 11,
   "id": "f335ef3c",
   "metadata": {},
   "outputs": [
    {
     "data": {
      "text/html": [
       "<div>\n",
       "<style scoped>\n",
       "    .dataframe tbody tr th:only-of-type {\n",
       "        vertical-align: middle;\n",
       "    }\n",
       "\n",
       "    .dataframe tbody tr th {\n",
       "        vertical-align: top;\n",
       "    }\n",
       "\n",
       "    .dataframe thead th {\n",
       "        text-align: right;\n",
       "    }\n",
       "</style>\n",
       "<table border=\"1\" class=\"dataframe\">\n",
       "  <thead>\n",
       "    <tr style=\"text-align: right;\">\n",
       "      <th></th>\n",
       "      <th>Gradient Boosting</th>\n",
       "    </tr>\n",
       "  </thead>\n",
       "  <tbody>\n",
       "    <tr>\n",
       "      <th>0</th>\n",
       "      <td>-0.495621</td>\n",
       "    </tr>\n",
       "    <tr>\n",
       "      <th>1</th>\n",
       "      <td>0.477386</td>\n",
       "    </tr>\n",
       "    <tr>\n",
       "      <th>2</th>\n",
       "      <td>-0.615772</td>\n",
       "    </tr>\n",
       "    <tr>\n",
       "      <th>3</th>\n",
       "      <td>0.964295</td>\n",
       "    </tr>\n",
       "    <tr>\n",
       "      <th>4</th>\n",
       "      <td>-0.579685</td>\n",
       "    </tr>\n",
       "    <tr>\n",
       "      <th>...</th>\n",
       "      <td>...</td>\n",
       "    </tr>\n",
       "    <tr>\n",
       "      <th>195</th>\n",
       "      <td>0.726961</td>\n",
       "    </tr>\n",
       "    <tr>\n",
       "      <th>196</th>\n",
       "      <td>0.238493</td>\n",
       "    </tr>\n",
       "    <tr>\n",
       "      <th>197</th>\n",
       "      <td>1.166972</td>\n",
       "    </tr>\n",
       "    <tr>\n",
       "      <th>198</th>\n",
       "      <td>-0.069501</td>\n",
       "    </tr>\n",
       "    <tr>\n",
       "      <th>199</th>\n",
       "      <td>0.249520</td>\n",
       "    </tr>\n",
       "  </tbody>\n",
       "</table>\n",
       "<p>200 rows × 1 columns</p>\n",
       "</div>"
      ],
      "text/plain": [
       "     Gradient Boosting\n",
       "0            -0.495621\n",
       "1             0.477386\n",
       "2            -0.615772\n",
       "3             0.964295\n",
       "4            -0.579685\n",
       "..                 ...\n",
       "195           0.726961\n",
       "196           0.238493\n",
       "197           1.166972\n",
       "198          -0.069501\n",
       "199           0.249520\n",
       "\n",
       "[200 rows x 1 columns]"
      ]
     },
     "execution_count": 11,
     "metadata": {},
     "output_type": "execute_result"
    }
   ],
   "source": [
    "pred1 = pd.DataFrame(y_predicted1, columns = ['Gradient Boosting'])\n",
    "pred1"
   ]
  },
  {
   "cell_type": "code",
   "execution_count": 12,
   "id": "ee23c6e2",
   "metadata": {},
   "outputs": [
    {
     "data": {
      "text/html": [
       "<div>\n",
       "<style scoped>\n",
       "    .dataframe tbody tr th:only-of-type {\n",
       "        vertical-align: middle;\n",
       "    }\n",
       "\n",
       "    .dataframe tbody tr th {\n",
       "        vertical-align: top;\n",
       "    }\n",
       "\n",
       "    .dataframe thead th {\n",
       "        text-align: right;\n",
       "    }\n",
       "</style>\n",
       "<table border=\"1\" class=\"dataframe\">\n",
       "  <thead>\n",
       "    <tr style=\"text-align: right;\">\n",
       "      <th></th>\n",
       "      <th>z_mean</th>\n",
       "      <th>z_std</th>\n",
       "      <th>grp_mean</th>\n",
       "      <th>grp_std</th>\n",
       "      <th>row_mean</th>\n",
       "      <th>row_std</th>\n",
       "      <th>x_mean</th>\n",
       "      <th>x_std</th>\n",
       "      <th>av_ionrad_mean</th>\n",
       "      <th>av_ionrad_std</th>\n",
       "      <th>...</th>\n",
       "      <th>mn_mean</th>\n",
       "      <th>mn_std</th>\n",
       "      <th>rsp_mean</th>\n",
       "      <th>rsp_std</th>\n",
       "      <th>av_rsp_mean</th>\n",
       "      <th>av_rsp_std</th>\n",
       "      <th>gtf</th>\n",
       "      <th>of</th>\n",
       "      <th>rho</th>\n",
       "      <th>Gradient Boosting</th>\n",
       "    </tr>\n",
       "  </thead>\n",
       "  <tbody>\n",
       "    <tr>\n",
       "      <th>0</th>\n",
       "      <td>-1.395885</td>\n",
       "      <td>-1.647100</td>\n",
       "      <td>-1.019217</td>\n",
       "      <td>0.537349</td>\n",
       "      <td>-1.147367</td>\n",
       "      <td>-1.013972</td>\n",
       "      <td>-0.063532</td>\n",
       "      <td>0.385295</td>\n",
       "      <td>0.242550</td>\n",
       "      <td>-0.248146</td>\n",
       "      <td>...</td>\n",
       "      <td>-0.716097</td>\n",
       "      <td>0.322622</td>\n",
       "      <td>-0.320075</td>\n",
       "      <td>0.058191</td>\n",
       "      <td>-0.320610</td>\n",
       "      <td>0.058673</td>\n",
       "      <td>-0.211490</td>\n",
       "      <td>-0.692948</td>\n",
       "      <td>-0.820279</td>\n",
       "      <td>-0.495621</td>\n",
       "    </tr>\n",
       "    <tr>\n",
       "      <th>1</th>\n",
       "      <td>-1.533258</td>\n",
       "      <td>-1.804840</td>\n",
       "      <td>-0.501748</td>\n",
       "      <td>0.470618</td>\n",
       "      <td>-1.311035</td>\n",
       "      <td>-1.140723</td>\n",
       "      <td>0.076912</td>\n",
       "      <td>0.266143</td>\n",
       "      <td>0.159548</td>\n",
       "      <td>0.021557</td>\n",
       "      <td>...</td>\n",
       "      <td>-0.356492</td>\n",
       "      <td>0.327747</td>\n",
       "      <td>-0.585744</td>\n",
       "      <td>-0.071675</td>\n",
       "      <td>-0.586293</td>\n",
       "      <td>-0.071287</td>\n",
       "      <td>-0.028629</td>\n",
       "      <td>-0.813836</td>\n",
       "      <td>-0.923341</td>\n",
       "      <td>0.477386</td>\n",
       "    </tr>\n",
       "    <tr>\n",
       "      <th>2</th>\n",
       "      <td>-0.571643</td>\n",
       "      <td>0.106097</td>\n",
       "      <td>-0.132127</td>\n",
       "      <td>0.243372</td>\n",
       "      <td>-0.329026</td>\n",
       "      <td>0.447709</td>\n",
       "      <td>0.080924</td>\n",
       "      <td>0.339041</td>\n",
       "      <td>0.439296</td>\n",
       "      <td>-0.505922</td>\n",
       "      <td>...</td>\n",
       "      <td>-0.743758</td>\n",
       "      <td>0.355989</td>\n",
       "      <td>-0.071343</td>\n",
       "      <td>0.331810</td>\n",
       "      <td>-0.071865</td>\n",
       "      <td>0.332489</td>\n",
       "      <td>-0.608042</td>\n",
       "      <td>-0.406399</td>\n",
       "      <td>0.081647</td>\n",
       "      <td>-0.615772</td>\n",
       "    </tr>\n",
       "    <tr>\n",
       "      <th>3</th>\n",
       "      <td>-0.659063</td>\n",
       "      <td>0.436143</td>\n",
       "      <td>-0.353900</td>\n",
       "      <td>0.421690</td>\n",
       "      <td>-0.820031</td>\n",
       "      <td>-0.439207</td>\n",
       "      <td>0.161178</td>\n",
       "      <td>0.197006</td>\n",
       "      <td>0.482334</td>\n",
       "      <td>-0.787844</td>\n",
       "      <td>...</td>\n",
       "      <td>-0.204352</td>\n",
       "      <td>0.347629</td>\n",
       "      <td>-0.443943</td>\n",
       "      <td>-0.053658</td>\n",
       "      <td>-0.444485</td>\n",
       "      <td>-0.053257</td>\n",
       "      <td>-0.688540</td>\n",
       "      <td>-0.343717</td>\n",
       "      <td>-0.494014</td>\n",
       "      <td>0.964295</td>\n",
       "    </tr>\n",
       "    <tr>\n",
       "      <th>4</th>\n",
       "      <td>-0.559155</td>\n",
       "      <td>0.140532</td>\n",
       "      <td>-0.058203</td>\n",
       "      <td>0.277200</td>\n",
       "      <td>-0.329026</td>\n",
       "      <td>0.447709</td>\n",
       "      <td>0.020734</td>\n",
       "      <td>0.422176</td>\n",
       "      <td>0.430842</td>\n",
       "      <td>-0.501569</td>\n",
       "      <td>...</td>\n",
       "      <td>-0.716097</td>\n",
       "      <td>0.339674</td>\n",
       "      <td>-0.075992</td>\n",
       "      <td>0.325530</td>\n",
       "      <td>-0.076514</td>\n",
       "      <td>0.326204</td>\n",
       "      <td>-0.591981</td>\n",
       "      <td>-0.418712</td>\n",
       "      <td>0.104423</td>\n",
       "      <td>-0.579685</td>\n",
       "    </tr>\n",
       "    <tr>\n",
       "      <th>...</th>\n",
       "      <td>...</td>\n",
       "      <td>...</td>\n",
       "      <td>...</td>\n",
       "      <td>...</td>\n",
       "      <td>...</td>\n",
       "      <td>...</td>\n",
       "      <td>...</td>\n",
       "      <td>...</td>\n",
       "      <td>...</td>\n",
       "      <td>...</td>\n",
       "      <td>...</td>\n",
       "      <td>...</td>\n",
       "      <td>...</td>\n",
       "      <td>...</td>\n",
       "      <td>...</td>\n",
       "      <td>...</td>\n",
       "      <td>...</td>\n",
       "      <td>...</td>\n",
       "      <td>...</td>\n",
       "      <td>...</td>\n",
       "      <td>...</td>\n",
       "    </tr>\n",
       "    <tr>\n",
       "      <th>195</th>\n",
       "      <td>-0.246942</td>\n",
       "      <td>0.036088</td>\n",
       "      <td>-0.871369</td>\n",
       "      <td>0.432449</td>\n",
       "      <td>-0.001690</td>\n",
       "      <td>0.626346</td>\n",
       "      <td>-0.232063</td>\n",
       "      <td>0.594562</td>\n",
       "      <td>0.941151</td>\n",
       "      <td>-0.905365</td>\n",
       "      <td>...</td>\n",
       "      <td>-1.034208</td>\n",
       "      <td>0.493309</td>\n",
       "      <td>0.144846</td>\n",
       "      <td>0.617798</td>\n",
       "      <td>0.144335</td>\n",
       "      <td>0.618683</td>\n",
       "      <td>-0.570289</td>\n",
       "      <td>-0.078435</td>\n",
       "      <td>0.056594</td>\n",
       "      <td>0.726961</td>\n",
       "    </tr>\n",
       "    <tr>\n",
       "      <th>196</th>\n",
       "      <td>-0.122057</td>\n",
       "      <td>0.195620</td>\n",
       "      <td>-0.132127</td>\n",
       "      <td>0.243372</td>\n",
       "      <td>-0.001690</td>\n",
       "      <td>0.626346</td>\n",
       "      <td>-0.051494</td>\n",
       "      <td>0.471376</td>\n",
       "      <td>0.948836</td>\n",
       "      <td>-0.935049</td>\n",
       "      <td>...</td>\n",
       "      <td>-0.508632</td>\n",
       "      <td>0.532332</td>\n",
       "      <td>-0.185580</td>\n",
       "      <td>0.385917</td>\n",
       "      <td>-0.186108</td>\n",
       "      <td>0.386635</td>\n",
       "      <td>-0.583971</td>\n",
       "      <td>-0.067242</td>\n",
       "      <td>0.263285</td>\n",
       "      <td>0.238493</td>\n",
       "    </tr>\n",
       "    <tr>\n",
       "      <th>197</th>\n",
       "      <td>0.152690</td>\n",
       "      <td>0.705264</td>\n",
       "      <td>-0.871369</td>\n",
       "      <td>0.432449</td>\n",
       "      <td>0.161979</td>\n",
       "      <td>0.776722</td>\n",
       "      <td>-0.272190</td>\n",
       "      <td>0.630618</td>\n",
       "      <td>0.941151</td>\n",
       "      <td>-0.905365</td>\n",
       "      <td>...</td>\n",
       "      <td>-1.020377</td>\n",
       "      <td>0.489130</td>\n",
       "      <td>0.154808</td>\n",
       "      <td>0.628460</td>\n",
       "      <td>0.154298</td>\n",
       "      <td>0.629353</td>\n",
       "      <td>-0.570289</td>\n",
       "      <td>-0.078435</td>\n",
       "      <td>0.629408</td>\n",
       "      <td>1.166972</td>\n",
       "    </tr>\n",
       "    <tr>\n",
       "      <th>198</th>\n",
       "      <td>0.389971</td>\n",
       "      <td>1.265244</td>\n",
       "      <td>-0.797445</td>\n",
       "      <td>0.372093</td>\n",
       "      <td>0.652983</td>\n",
       "      <td>1.538173</td>\n",
       "      <td>-0.320342</td>\n",
       "      <td>0.677858</td>\n",
       "      <td>1.072571</td>\n",
       "      <td>-1.407346</td>\n",
       "      <td>...</td>\n",
       "      <td>-1.407644</td>\n",
       "      <td>0.706145</td>\n",
       "      <td>0.023302</td>\n",
       "      <td>0.504343</td>\n",
       "      <td>0.022785</td>\n",
       "      <td>0.505146</td>\n",
       "      <td>-0.796300</td>\n",
       "      <td>0.112970</td>\n",
       "      <td>0.453464</td>\n",
       "      <td>-0.069501</td>\n",
       "    </tr>\n",
       "    <tr>\n",
       "      <th>199</th>\n",
       "      <td>-0.284408</td>\n",
       "      <td>0.266857</td>\n",
       "      <td>-0.797445</td>\n",
       "      <td>0.403171</td>\n",
       "      <td>-0.492694</td>\n",
       "      <td>-0.130116</td>\n",
       "      <td>0.012709</td>\n",
       "      <td>0.352955</td>\n",
       "      <td>0.586855</td>\n",
       "      <td>-0.334924</td>\n",
       "      <td>...</td>\n",
       "      <td>-0.536294</td>\n",
       "      <td>0.237299</td>\n",
       "      <td>-0.177278</td>\n",
       "      <td>0.320496</td>\n",
       "      <td>-0.177806</td>\n",
       "      <td>0.321167</td>\n",
       "      <td>0.132752</td>\n",
       "      <td>-0.594447</td>\n",
       "      <td>0.590120</td>\n",
       "      <td>0.249520</td>\n",
       "    </tr>\n",
       "  </tbody>\n",
       "</table>\n",
       "<p>200 rows × 58 columns</p>\n",
       "</div>"
      ],
      "text/plain": [
       "       z_mean     z_std  grp_mean   grp_std  row_mean   row_std    x_mean  \\\n",
       "0   -1.395885 -1.647100 -1.019217  0.537349 -1.147367 -1.013972 -0.063532   \n",
       "1   -1.533258 -1.804840 -0.501748  0.470618 -1.311035 -1.140723  0.076912   \n",
       "2   -0.571643  0.106097 -0.132127  0.243372 -0.329026  0.447709  0.080924   \n",
       "3   -0.659063  0.436143 -0.353900  0.421690 -0.820031 -0.439207  0.161178   \n",
       "4   -0.559155  0.140532 -0.058203  0.277200 -0.329026  0.447709  0.020734   \n",
       "..        ...       ...       ...       ...       ...       ...       ...   \n",
       "195 -0.246942  0.036088 -0.871369  0.432449 -0.001690  0.626346 -0.232063   \n",
       "196 -0.122057  0.195620 -0.132127  0.243372 -0.001690  0.626346 -0.051494   \n",
       "197  0.152690  0.705264 -0.871369  0.432449  0.161979  0.776722 -0.272190   \n",
       "198  0.389971  1.265244 -0.797445  0.372093  0.652983  1.538173 -0.320342   \n",
       "199 -0.284408  0.266857 -0.797445  0.403171 -0.492694 -0.130116  0.012709   \n",
       "\n",
       "        x_std  av_ionrad_mean  av_ionrad_std  ...   mn_mean    mn_std  \\\n",
       "0    0.385295        0.242550      -0.248146  ... -0.716097  0.322622   \n",
       "1    0.266143        0.159548       0.021557  ... -0.356492  0.327747   \n",
       "2    0.339041        0.439296      -0.505922  ... -0.743758  0.355989   \n",
       "3    0.197006        0.482334      -0.787844  ... -0.204352  0.347629   \n",
       "4    0.422176        0.430842      -0.501569  ... -0.716097  0.339674   \n",
       "..        ...             ...            ...  ...       ...       ...   \n",
       "195  0.594562        0.941151      -0.905365  ... -1.034208  0.493309   \n",
       "196  0.471376        0.948836      -0.935049  ... -0.508632  0.532332   \n",
       "197  0.630618        0.941151      -0.905365  ... -1.020377  0.489130   \n",
       "198  0.677858        1.072571      -1.407346  ... -1.407644  0.706145   \n",
       "199  0.352955        0.586855      -0.334924  ... -0.536294  0.237299   \n",
       "\n",
       "     rsp_mean   rsp_std  av_rsp_mean  av_rsp_std       gtf        of  \\\n",
       "0   -0.320075  0.058191    -0.320610    0.058673 -0.211490 -0.692948   \n",
       "1   -0.585744 -0.071675    -0.586293   -0.071287 -0.028629 -0.813836   \n",
       "2   -0.071343  0.331810    -0.071865    0.332489 -0.608042 -0.406399   \n",
       "3   -0.443943 -0.053658    -0.444485   -0.053257 -0.688540 -0.343717   \n",
       "4   -0.075992  0.325530    -0.076514    0.326204 -0.591981 -0.418712   \n",
       "..        ...       ...          ...         ...       ...       ...   \n",
       "195  0.144846  0.617798     0.144335    0.618683 -0.570289 -0.078435   \n",
       "196 -0.185580  0.385917    -0.186108    0.386635 -0.583971 -0.067242   \n",
       "197  0.154808  0.628460     0.154298    0.629353 -0.570289 -0.078435   \n",
       "198  0.023302  0.504343     0.022785    0.505146 -0.796300  0.112970   \n",
       "199 -0.177278  0.320496    -0.177806    0.321167  0.132752 -0.594447   \n",
       "\n",
       "          rho  Gradient Boosting  \n",
       "0   -0.820279          -0.495621  \n",
       "1   -0.923341           0.477386  \n",
       "2    0.081647          -0.615772  \n",
       "3   -0.494014           0.964295  \n",
       "4    0.104423          -0.579685  \n",
       "..        ...                ...  \n",
       "195  0.056594           0.726961  \n",
       "196  0.263285           0.238493  \n",
       "197  0.629408           1.166972  \n",
       "198  0.453464          -0.069501  \n",
       "199  0.590120           0.249520  \n",
       "\n",
       "[200 rows x 58 columns]"
      ]
     },
     "execution_count": 12,
     "metadata": {},
     "output_type": "execute_result"
    }
   ],
   "source": [
    "X_test1.index = range(len(X_test1))#Esta parte se usa si es que no se corre todo el notebook\n",
    "Datos = pd.concat([X_test1, pred1], axis = 1)\n",
    "#Datos = Datos.drop('formation_energy_per_atom', axis = 1)#Esta linea se puede quitar si se quiere hacer el entrenamiento\n",
    "Datos                                                    #con el rasgo de 'formation_energy_per_atom'"
   ]
  },
  {
   "cell_type": "code",
   "execution_count": 13,
   "id": "dc4e7532",
   "metadata": {},
   "outputs": [
    {
     "name": "stdout",
     "output_type": "stream",
     "text": [
      "Fitting 5 folds for each of 5 candidates, totalling 25 fits\n"
     ]
    }
   ],
   "source": [
    "X_train2, X_test2, y_train2, y_test2 = train_test_split( Datos, y_test1, test_size=0.1, random_state=9)\n",
    "GBR2 = GridSearchCV(GradientBoostingRegressor (),{'n_estimators': [1000,500,100,10,3], 'max_depth': [332], 'min_samples_split': [2], 'learning_rate': [0.1],\n",
    "    'loss': ['squared_error'], 'random_state':[72]}, cv=5, verbose = 3, n_jobs=-1)\n",
    "#loss = 'ls', este es least squares\n",
    "GBR2.fit(X_train2, y_train2) #Entrenamos el modelo\n",
    "model2 = GBR2.best_estimator_ #Nos quedamos con el mejor modelo"
   ]
  },
  {
   "cell_type": "code",
   "execution_count": 14,
   "id": "84855951",
   "metadata": {},
   "outputs": [
    {
     "data": {
      "image/png": "[encoded data removed]",
      "text/plain": [
       "<Figure size 432x288 with 1 Axes>"
      ]
     },
     "metadata": {
      "needs_background": "light"
     },
     "output_type": "display_data"
    }
   ],
   "source": [
    "plt.bar(range(len(model2.feature_importances_)), model2.feature_importances_)\n",
    "plt.show()"
   ]
  },
  {
   "cell_type": "code",
   "execution_count": 15,
   "id": "09f3766f",
   "metadata": {},
   "outputs": [
    {
     "name": "stdout",
     "output_type": "stream",
     "text": [
      "ABR Model| R2 sq on train set: 0.8784\n",
      "ABR Model| R2 sq on test set: 0.7521\n",
      "ABR Model| MSE on test set: 0.1153\n",
      "ABR Model| MAE on test set: 0.2878\n"
     ]
    }
   ],
   "source": [
    "abr_score2 = model2.score(X_train2,y_train2) #Se evalua que tan bien entredo \n",
    "abr_score12 = model2.score(X_test2,y_test2) #Que tan bueno es en el conjunto de test\n",
    "y_predicted2 = model2.predict(X_test2) #Hacemos la inferencia con el conjunto test\n",
    "yp2 = y_predicted2# * sb + mb\n",
    "yt2 = y_test2 #* sb + mb\n",
    "print('ABR Model| R2 sq on train set: %.4f'% abr_score2)  #Mostramos las metricas que se obtuvieron.\n",
    "print('ABR Model| R2 sq on test set: %.4f'% abr_score12)\n",
    "print('ABR Model| MSE on test set: %.4f'% mean_squared_error(yt2, yp2))\n",
    "print('ABR Model| MAE on test set: %.4f'% mean_absolute_error(yt2, yp2))"
   ]
  },
  {
   "cell_type": "code",
   "execution_count": 16,
   "id": "4fe619a0",
   "metadata": {},
   "outputs": [
    {
     "data": {
      "image/png": "[encoded data removed]",
      "text/plain": [
       "<Figure size 432x288 with 1 Axes>"
      ]
     },
     "metadata": {
      "needs_background": "light"
     },
     "output_type": "display_data"
    }
   ],
   "source": [
    "#Aqui podemos ver la diferencia entre el valor desnormalizado de la prediccion y el test y\n",
    "dif2 = yp2-yt2\n",
    "plt.hist(x=dif2, bins=25, color='#F2AB6D', rwidth=0.85, density = True)\n",
    "plt.title('Histograma de Diferencia entre el valor real y predicho')\n",
    "plt.xlabel('Diferencia')\n",
    "plt.ylabel('Frecuencia')\n",
    "plt.xticks(range(-3,4))\n",
    "plt.show()"
   ]
  },
  {
   "cell_type": "code",
   "execution_count": 17,
   "id": "6881714b",
   "metadata": {},
   "outputs": [
    {
     "data": {
      "image/png": "[encoded data removed]",
      "text/plain": [
       "<Figure size 432x288 with 1 Axes>"
      ]
     },
     "metadata": {
      "needs_background": "light"
     },
     "output_type": "display_data"
    }
   ],
   "source": [
    "plt.plot(yt2,yp2,'o')\n",
    "plt.plot(y_test2,y_test2,'o')\n",
    "plt.grid()"
   ]
  },
  {
   "cell_type": "markdown",
   "id": "39469ac8",
   "metadata": {},
   "source": [
    "En las celdas sigueintes vamos hacer el entrenamiento del metodo supoort vector regression para el caso en donde no se toma en cuenta la prediccion de gradient boosting"
   ]
  },
  {
   "cell_type": "code",
   "execution_count": 18,
   "id": "88b9098c",
   "metadata": {},
   "outputs": [
    {
     "name": "stdout",
     "output_type": "stream",
     "text": [
      "Fitting 5 folds for each of 5 candidates, totalling 25 fits\n"
     ]
    }
   ],
   "source": [
    "X_train3, X_test3, y_train3, y_test3 = train_test_split( X_test1, y_test1, test_size=0.1, random_state=9)\n",
    "GBR3 = GridSearchCV(GradientBoostingRegressor (),{'n_estimators': [1000,500,100,10,3], 'max_depth': [332], 'min_samples_split': [2], 'learning_rate': [0.1],\n",
    "    'loss': ['squared_error'], 'random_state':[72]}, cv=5, verbose = 3, n_jobs=-1)\n",
    "#loss = 'ls', este es least squares\n",
    "GBR3.fit(X_train3, y_train3) #Entrenamos el modelo\n",
    "model3 = GBR3.best_estimator_ #Nos quedamos con el mejor modelo"
   ]
  },
  {
   "cell_type": "code",
   "execution_count": 19,
   "id": "ff9f725f",
   "metadata": {},
   "outputs": [
    {
     "name": "stdout",
     "output_type": "stream",
     "text": [
      "ABR Model| R2 sq on train set: 0.8784\n",
      "ABR Model| R2 sq on test set: 0.2003\n",
      "ABR Model| MSE on test set: 0.3719\n",
      "ABR Model| MAE on test set: 0.4398\n"
     ]
    }
   ],
   "source": [
    "#Este entrenamiento muestra el rendimiento, para un entrenamiento, en donde no se considera el rasgo de formation_energy_per_atom\n",
    "#Ademas de que se quita la normalizacion, entonces se quedan los valores reales\n",
    "#Este es el resultado cuando se normalizan los datos\n",
    "abr_score3 = model3.score(X_train3,y_train3) #Se evalua que tan bien entredo \n",
    "abr_score13 = model3.score(X_test3,y_test3) #Que tan bueno es en el conjunto de test\n",
    "y_predicted3 = model3.predict(X_test3) #Hacemos la inferencia con el conjunto test\n",
    "yp3 = y_predicted3# * sb + mb\n",
    "yt3 = y_test3 #* sb + mb\n",
    "print('ABR Model| R2 sq on train set: %.4f'% abr_score3)  #Mostramos las metricas que se obtuvieron.\n",
    "print('ABR Model| R2 sq on test set: %.4f'% abr_score13)\n",
    "print('ABR Model| MSE on test set: %.4f'% mean_squared_error(yt3, yp3))\n",
    "print('ABR Model| MAE on test set: %.4f'% mean_absolute_error(yt3, yp3))"
   ]
  },
  {
   "cell_type": "code",
   "execution_count": 20,
   "id": "c5014a28",
   "metadata": {},
   "outputs": [
    {
     "data": {
      "image/png": "[encoded data removed]",
      "text/plain": [
       "<Figure size 432x288 with 1 Axes>"
      ]
     },
     "metadata": {
      "needs_background": "light"
     },
     "output_type": "display_data"
    }
   ],
   "source": [
    "#Aqui podemos ver la diferencia entre el valor desnormalizado de la prediccion y el test y\n",
    "dif3 = yp3-yt3\n",
    "plt.hist(x=dif3, bins=25, color='#F2AB6D', rwidth=0.85, density = True)\n",
    "plt.title('Histograma de Diferencia entre el valor real y predicho')\n",
    "plt.xlabel('Diferencia')\n",
    "plt.ylabel('Frecuencia')\n",
    "plt.xticks(range(-3,4))\n",
    "plt.show()"
   ]
  },
  {
   "cell_type": "code",
   "execution_count": 21,
   "id": "41f7f05f",
   "metadata": {},
   "outputs": [
    {
     "data": {
      "image/png": "[encoded data removed]",
      "text/plain": [
       "<Figure size 432x288 with 1 Axes>"
      ]
     },
     "metadata": {
      "needs_background": "light"
     },
     "output_type": "display_data"
    }
   ],
   "source": [
    "plt.plot(yt3,yp3,'o')\n",
    "plt.plot(y_test3,y_test3,'o')\n",
    "plt.grid()"
   ]
  },
  {
   "cell_type": "code",
   "execution_count": 22,
   "id": "abf72630",
   "metadata": {},
   "outputs": [],
   "source": [
    "def res(x,y):\n",
    "    pre = model.predict(x)\n",
    "    score = model.score(x,y)\n",
    "    print('Resultados del modelo entrenado con todos los datos')\n",
    "    print('ABR Model| R2 sq on test set: %.4f'% score)\n",
    "    print('ABR Model| MSE on test set: %.4f'% mean_squared_error(y, pre))\n",
    "    print('ABR Model| MAE on test set: %.4f'% mean_absolute_error(y, pre))\n",
    "    print('\\n')\n",
    "    pred = model1.predict(x)\n",
    "    pred1 = pd.DataFrame(pred, columns = ['Gradient Boosting'])\n",
    "    x.index = range(len(x))#Esta parte se usa si es que no se corre todo el notebook\n",
    "    Datos = pd.concat([x, pred1], axis = 1)\n",
    "    yp = model2.predict(Datos)\n",
    "    score1 = model2.score(Datos,y)\n",
    "    print('Resultados del modelo combinado')\n",
    "    print('ABR Model| R2 sq on test set: %.4f'% score1)\n",
    "    print('ABR Model| MSE on test set: %.4f'% mean_squared_error(y, yp))\n",
    "    print('ABR Model| MAE on test set: %.4f'% mean_absolute_error(y, yp))\n",
    "    print('\\n')\n",
    "    yp2 = model3.predict(x)\n",
    "    score2 = model3.score(x,y)\n",
    "    print('Resultados del modelo entrenado solo con la segunda mitad')\n",
    "    print('ABR Model| R2 sq on test set: %.4f'% score2)\n",
    "    print('ABR Model| MSE on test set: %.4f'% mean_squared_error(y, yp2))\n",
    "    print('ABR Model| MAE on test set: %.4f'% mean_absolute_error(y, yp2))\n",
    "    plt.plot(y,pre,'o', label = 'Todo')\n",
    "    plt.plot(y,yp2,'o', label = 'Mitad')\n",
    "    plt.plot(y,yp,'o', label ='Combinado')\n",
    "    plt.plot(y,y,'o',label = 'real')\n",
    "    plt.grid()\n",
    "    plt.legend()"
   ]
  },
  {
   "cell_type": "code",
   "execution_count": 23,
   "id": "95b89a55",
   "metadata": {},
   "outputs": [
    {
     "name": "stdout",
     "output_type": "stream",
     "text": [
      "Resultados del modelo entrenado con todos los datos\n",
      "ABR Model| R2 sq on test set: 0.8500\n",
      "ABR Model| MSE on test set: 0.0887\n",
      "ABR Model| MAE on test set: 0.1827\n",
      "\n",
      "\n",
      "Resultados del modelo combinado\n",
      "ABR Model| R2 sq on test set: 0.5031\n",
      "ABR Model| MSE on test set: 0.2938\n",
      "ABR Model| MAE on test set: 0.4654\n",
      "\n",
      "\n",
      "Resultados del modelo entrenado solo con la segunda mitad\n",
      "ABR Model| R2 sq on test set: 0.1736\n",
      "ABR Model| MSE on test set: 0.4885\n",
      "ABR Model| MAE on test set: 0.5447\n"
     ]
    },
    {
     "data": {
      "image/png": "[encoded data removed]",
      "text/plain": [
       "<Figure size 432x288 with 1 Axes>"
      ]
     },
     "metadata": {
      "needs_background": "light"
     },
     "output_type": "display_data"
    }
   ],
   "source": [
    "res(X,Y)"
   ]
  },
  {
   "cell_type": "code",
   "execution_count": null,
   "id": "4df24c27",
   "metadata": {},
   "outputs": [],
   "source": []
  }
 ],
 "metadata": {
  "kernelspec": {
   "display_name": "Python 3 (ipykernel)",
   "language": "python",
   "name": "python3"
  },
  "language_info": {
   "codemirror_mode": {
    "name": "ipython",
    "version": 3
   },
   "file_extension": ".py",
   "mimetype": "text/x-python",
   "name": "python",
   "nbconvert_exporter": "python",
   "pygments_lexer": "ipython3",
   "version": "3.9.7"
  }
 },
 "nbformat": 4,
 "nbformat_minor": 5
}
