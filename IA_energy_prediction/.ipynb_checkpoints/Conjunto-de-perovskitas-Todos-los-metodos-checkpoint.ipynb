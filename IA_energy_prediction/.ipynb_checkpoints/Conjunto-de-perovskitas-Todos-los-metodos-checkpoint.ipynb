{
 "cells": [
  {
   "cell_type": "code",
   "execution_count": 79,
   "id": "b08c4f2b",
   "metadata": {},
   "outputs": [],
   "source": [
    "import pandas as pd\n",
    "import pylab as pl\n",
    "import numpy as np\n",
    "import time\n",
    "import scipy.optimize as opt\n",
    "from sklearn import preprocessing\n",
    "from sklearn.model_selection import train_test_split\n",
    "%matplotlib inline \n",
    "import matplotlib.pyplot as plt\n",
    "from sklearn.metrics import mean_squared_error, r2_score, mean_absolute_error\n",
    "from sklearn import ensemble\n",
    "from sklearn.model_selection import cross_val_score\n",
    "from sklearn.model_selection import GridSearchCV \n",
    "\n",
    "from sklearn.ensemble import AdaBoostRegressor\n",
    "from sklearn import linear_model\n",
    "from sklearn.tree import DecisionTreeRegressor\n",
    "from sklearn.gaussian_process import GaussianProcessRegressor\n",
    "from sklearn.ensemble import GradientBoostingRegressor\n",
    "from sklearn.kernel_ridge import KernelRidge\n",
    "from sklearn.neighbors import KNeighborsRegressor\n",
    "from sklearn.linear_model import PassiveAggressiveRegressor\n",
    "from sklearn.ensemble import RandomForestRegressor\n",
    "from sklearn.linear_model import SGDRegressor\n",
    "from sklearn.svm import SVR\n",
    "\n",
    "\n",
    "from sklearn.gaussian_process.kernels import ConstantKernel, RBF\n",
    "from sklearn.pipeline import Pipeline\n",
    "from sklearn.pipeline import make_pipeline\n",
    "from sklearn.preprocessing import StandardScaler\n",
    "import matplotlib.pyplot as plt\n",
    "from sklearn.model_selection import learning_curve "
   ]
  },
  {
   "cell_type": "code",
   "execution_count": 16,
   "id": "d3b181a6",
   "metadata": {},
   "outputs": [],
   "source": [
    "df1 = pd.read_csv('JUAN-Perovskite.csv') #Aqui lo que se hace es cargar los datos.\n",
    "x = df1.drop(\"Band_gap\",axis = 1) #Aqui quitamos la columna que correponde a la energia de gap\n",
    "x = x.drop(\"full_formula\",axis = 1) #Aqui quitamos los normbres de los compuestos \n",
    "y = np.asarray(df1['Band_gap']) #Aqui definimos la cantidad que deseamos predecir, en este caso la energia de gap\n",
    "x = (x-x.mean())/x.std()\n",
    "y = (y-y.mean())/y.std()\n",
    "x = x.fillna(0)\n",
    "\n",
    "X_train, X_test, y_train, y_test = train_test_split( x, y, test_size=0.1, random_state=9)"
   ]
  },
  {
   "cell_type": "code",
   "execution_count": 17,
   "id": "d8374475",
   "metadata": {},
   "outputs": [],
   "source": [
    "abr1 = GridSearchCV (AdaBoostRegressor (),{\n",
    "    'random_state':[0], 'n_estimators':[1000], 'learning_rate':[0.001], 'loss': ['exponential']}, cv=5)\n",
    "abr1.fit(X_train, y_train)\n",
    "model = abr1.best_estimator_"
   ]
  },
  {
   "cell_type": "code",
   "execution_count": 31,
   "id": "46c0e277",
   "metadata": {},
   "outputs": [
    {
     "name": "stdout",
     "output_type": "stream",
     "text": [
      "Primero vemos las metricas\n",
      "Model| R2 sq on train set: 0.5093\n",
      "Model| R2 sq on test set: 0.3596\n",
      "Model| MSE on test set: 0.4821\n",
      "Model| MAE on test set: 0.5977\n",
      "Ahora lo que vemos son la diferencia entre el valor real y el predicho\n"
     ]
    },
    {
     "data": {
      "text/plain": [
       "<function matplotlib.pyplot.show(close=None, block=None)>"
      ]
     },
     "execution_count": 31,
     "metadata": {},
     "output_type": "execute_result"
    },
    {
     "data": {
      "image/png": "[encoded data removed]",
      "text/plain": [
       "<Figure size 432x288 with 1 Axes>"
      ]
     },
     "metadata": {
      "needs_background": "light"
     },
     "output_type": "display_data"
    }
   ],
   "source": [
    "print('Primero vemos las metricas')\n",
    "abr_score = model.score(X_train,y_train) #Se evalua que tan bien entredo \n",
    "abr_score1 = model.score(X_test,y_test) #Que tan bueno es en el conjunto de test\n",
    "y_predicted = model.predict(X_test) #Hacemos la inferencia con el conjunto test\n",
    "yp = y_predicted# * sb + mb\n",
    "yt = y_test #* sb + mb\n",
    "print('Model| R2 sq on train set: %.4f'% abr_score)  #Mostramos las metricas que se obtuvieron.\n",
    "print('Model| R2 sq on test set: %.4f'% abr_score1)\n",
    "print('Model| MSE on test set: %.4f'% mean_squared_error(yt, yp))\n",
    "print('Model| MAE on test set: %.4f'% mean_absolute_error(yt, yp))   \n",
    "\n",
    "print('Ahora lo que vemos son la diferencia entre el valor real y el predicho')\n",
    "dif = yp-yt\n",
    "plt.hist(x=dif, bins=25, color='#F2AB6D', rwidth=0.85, density = True)\n",
    "plt.title('Histograma de Diferencia entre el valor real y predicho')\n",
    "plt.xlabel('Diferencia')\n",
    "plt.ylabel('Frecuencia')\n",
    "plt.xticks(range(-3,4))\n",
    "plt.show"
   ]
  },
  {
   "cell_type": "code",
   "execution_count": 32,
   "id": "f8e6f98a",
   "metadata": {},
   "outputs": [
    {
     "name": "stdout",
     "output_type": "stream",
     "text": [
      "Lo que vemos es el valor predicho y el real\n"
     ]
    },
    {
     "data": {
      "text/plain": [
       "<function matplotlib.pyplot.show(close=None, block=None)>"
      ]
     },
     "execution_count": 32,
     "metadata": {},
     "output_type": "execute_result"
    },
    {
     "data": {
      "image/png": "[encoded data removed]",
      "text/plain": [
       "<Figure size 432x288 with 1 Axes>"
      ]
     },
     "metadata": {
      "needs_background": "light"
     },
     "output_type": "display_data"
    }
   ],
   "source": [
    "print('Lo que vemos es el valor predicho y el real')\n",
    "plt.plot(yt,yp,'o')\n",
    "plt.plot(y_test,y_test,'o')\n",
    "plt.grid()\n",
    "plt.show"
   ]
  },
  {
   "cell_type": "code",
   "execution_count": 18,
   "id": "12b2aa49",
   "metadata": {},
   "outputs": [],
   "source": [
    "BR = GridSearchCV (linear_model.BayesianRidge(),{'tol':[1e-3]}, cv=5)\n",
    "BR.fit(X_train, y_train) #Entrenamos el modelo\n",
    "model1 = BR.best_estimator_ #Nos quedamos con el mejor modelo"
   ]
  },
  {
   "cell_type": "code",
   "execution_count": 33,
   "id": "38d0c8b5",
   "metadata": {},
   "outputs": [
    {
     "name": "stdout",
     "output_type": "stream",
     "text": [
      "Primero vemos las metricas\n",
      "Model| R2 sq on train set: 0.5093\n",
      "Model| R2 sq on test set: 0.3596\n",
      "Model| MSE on test set: 0.4821\n",
      "Model| MAE on test set: 0.5977\n",
      "Ahora lo que vemos son la diferencia entre el valor real y el predicho\n"
     ]
    },
    {
     "data": {
      "text/plain": [
       "<function matplotlib.pyplot.show(close=None, block=None)>"
      ]
     },
     "execution_count": 33,
     "metadata": {},
     "output_type": "execute_result"
    },
    {
     "data": {
      "image/png": "[encoded data removed]",
      "text/plain": [
       "<Figure size 432x288 with 1 Axes>"
      ]
     },
     "metadata": {
      "needs_background": "light"
     },
     "output_type": "display_data"
    }
   ],
   "source": [
    "print('Primero vemos las metricas')\n",
    "abr_score = model1.score(X_train,y_train) #Se evalua que tan bien entredo \n",
    "abr_score1 = model1.score(X_test,y_test) #Que tan bueno es en el conjunto de test\n",
    "y_predicted = model1.predict(X_test) #Hacemos la inferencia con el conjunto test\n",
    "yp = y_predicted# * sb + mb\n",
    "yt = y_test #* sb + mb\n",
    "print('Model| R2 sq on train set: %.4f'% abr_score)  #Mostramos las metricas que se obtuvieron.\n",
    "print('Model| R2 sq on test set: %.4f'% abr_score1)\n",
    "print('Model| MSE on test set: %.4f'% mean_squared_error(yt, yp))\n",
    "print('Model| MAE on test set: %.4f'% mean_absolute_error(yt, yp))   \n",
    "\n",
    "print('Ahora lo que vemos son la diferencia entre el valor real y el predicho')\n",
    "dif = yp-yt\n",
    "plt.hist(x=dif, bins=25, color='#F2AB6D', rwidth=0.85, density = True)\n",
    "plt.title('Histograma de Diferencia entre el valor real y predicho')\n",
    "plt.xlabel('Diferencia')\n",
    "plt.ylabel('Frecuencia')\n",
    "plt.xticks(range(-3,4))\n",
    "plt.show"
   ]
  },
  {
   "cell_type": "code",
   "execution_count": 34,
   "id": "89e0b913",
   "metadata": {},
   "outputs": [
    {
     "name": "stdout",
     "output_type": "stream",
     "text": [
      "Lo que vemos es el valor predicho y el real\n"
     ]
    },
    {
     "data": {
      "text/plain": [
       "<function matplotlib.pyplot.show(close=None, block=None)>"
      ]
     },
     "execution_count": 34,
     "metadata": {},
     "output_type": "execute_result"
    },
    {
     "data": {
      "image/png": "[encoded data removed]",
      "text/plain": [
       "<Figure size 432x288 with 1 Axes>"
      ]
     },
     "metadata": {
      "needs_background": "light"
     },
     "output_type": "display_data"
    }
   ],
   "source": [
    "print('Lo que vemos es el valor predicho y el real')\n",
    "plt.plot(yt,yp,'o')\n",
    "plt.plot(y_test,y_test,'o')\n",
    "plt.grid()\n",
    "plt.show"
   ]
  },
  {
   "cell_type": "code",
   "execution_count": 36,
   "id": "96c4e5dd",
   "metadata": {},
   "outputs": [
    {
     "name": "stdout",
     "output_type": "stream",
     "text": [
      "Fitting 5 folds for each of 1 candidates, totalling 5 fits\n",
      "[CV 1/5] END criterion=friedman_mse, max_depth=None, random_state=72, splitter=best;, score=0.705 total time=   0.0s\n",
      "[CV 2/5] END criterion=friedman_mse, max_depth=None, random_state=72, splitter=best;, score=0.682 total time=   0.0s\n",
      "[CV 3/5] END criterion=friedman_mse, max_depth=None, random_state=72, splitter=best;, score=0.830 total time=   0.0s\n",
      "[CV 4/5] END criterion=friedman_mse, max_depth=None, random_state=72, splitter=best;, score=0.829 total time=   0.0s\n",
      "[CV 5/5] END criterion=friedman_mse, max_depth=None, random_state=72, splitter=best;, score=0.912 total time=   0.0s\n"
     ]
    }
   ],
   "source": [
    "dtr1 = GridSearchCV (DecisionTreeRegressor(),{\n",
    "    'criterion':['friedman_mse'], 'random_state':[72], 'splitter':['best'], 'max_depth':[None]}, cv=5, verbose = 3)\n",
    "dtr1.fit(X_train,y_train)\n",
    "#Aqui lo que hacemos es quedarnos con el mejor metodo, el que da mejores resultados, lo llamamos en este caso: model1\n",
    "model2 = dtr1.best_estimator_"
   ]
  },
  {
   "cell_type": "code",
   "execution_count": 37,
   "id": "ab8c1457",
   "metadata": {},
   "outputs": [
    {
     "name": "stdout",
     "output_type": "stream",
     "text": [
      "Primero vemos las metricas\n",
      "Model| R2 sq on train set: 1.0000\n",
      "Model| R2 sq on test set: 0.6448\n",
      "Model| MSE on test set: 0.2674\n",
      "Model| MAE on test set: 0.2876\n",
      "Ahora lo que vemos son la diferencia entre el valor real y el predicho\n"
     ]
    },
    {
     "data": {
      "text/plain": [
       "<function matplotlib.pyplot.show(close=None, block=None)>"
      ]
     },
     "execution_count": 37,
     "metadata": {},
     "output_type": "execute_result"
    },
    {
     "data": {
      "image/png": "[encoded data removed]",
      "text/plain": [
       "<Figure size 432x288 with 1 Axes>"
      ]
     },
     "metadata": {
      "needs_background": "light"
     },
     "output_type": "display_data"
    }
   ],
   "source": [
    "print('Primero vemos las metricas')\n",
    "abr_score = model2.score(X_train,y_train) #Se evalua que tan bien entredo \n",
    "abr_score1 = model2.score(X_test,y_test) #Que tan bueno es en el conjunto de test\n",
    "y_predicted = model2.predict(X_test) #Hacemos la inferencia con el conjunto test\n",
    "yp = y_predicted# * sb + mb\n",
    "yt = y_test #* sb + mb\n",
    "print('Model| R2 sq on train set: %.4f'% abr_score)  #Mostramos las metricas que se obtuvieron.\n",
    "print('Model| R2 sq on test set: %.4f'% abr_score1)\n",
    "print('Model| MSE on test set: %.4f'% mean_squared_error(yt, yp))\n",
    "print('Model| MAE on test set: %.4f'% mean_absolute_error(yt, yp))   \n",
    "\n",
    "print('Ahora lo que vemos son la diferencia entre el valor real y el predicho')\n",
    "dif = yp-yt\n",
    "plt.hist(x=dif, bins=25, color='#F2AB6D', rwidth=0.85, density = True)\n",
    "plt.title('Histograma de Diferencia entre el valor real y predicho')\n",
    "plt.xlabel('Diferencia')\n",
    "plt.ylabel('Frecuencia')\n",
    "plt.xticks(range(-3,4))\n",
    "plt.show"
   ]
  },
  {
   "cell_type": "code",
   "execution_count": 38,
   "id": "ffd31c8d",
   "metadata": {},
   "outputs": [
    {
     "name": "stdout",
     "output_type": "stream",
     "text": [
      "Lo que vemos es el valor predicho y el real\n"
     ]
    },
    {
     "data": {
      "text/plain": [
       "<function matplotlib.pyplot.show(close=None, block=None)>"
      ]
     },
     "execution_count": 38,
     "metadata": {},
     "output_type": "execute_result"
    },
    {
     "data": {
      "image/png": "[encoded data removed]",
      "text/plain": [
       "<Figure size 432x288 with 1 Axes>"
      ]
     },
     "metadata": {
      "needs_background": "light"
     },
     "output_type": "display_data"
    }
   ],
   "source": [
    "print('Lo que vemos es el valor predicho y el real')\n",
    "plt.plot(yt,yp,'o')\n",
    "plt.plot(y_test,y_test,'o')\n",
    "plt.grid()\n",
    "plt.show"
   ]
  },
  {
   "cell_type": "code",
   "execution_count": 41,
   "id": "e6cf9ecb",
   "metadata": {},
   "outputs": [],
   "source": [
    "kernel = 15*RBF(1.0)+10*RBF(2.0)+5*RBF(3.0) #Definimos que tipo de kernel usar, en este caso uno contante de 15 y 2 tipo RBF\n",
    "gpr1 = make_pipeline(StandardScaler(), GaussianProcessRegressor(kernel = kernel))\n",
    "gpr1.fit(X_train, y_train) #Entrenamos el modelo\n",
    "model3 = gpr1"
   ]
  },
  {
   "cell_type": "code",
   "execution_count": 42,
   "id": "c52ca228",
   "metadata": {},
   "outputs": [
    {
     "name": "stdout",
     "output_type": "stream",
     "text": [
      "Primero vemos las metricas\n",
      "Model| R2 sq on train set: 1.0000\n",
      "Model| R2 sq on test set: 0.6758\n",
      "Model| MSE on test set: 0.2440\n",
      "Model| MAE on test set: 0.3722\n",
      "Ahora lo que vemos son la diferencia entre el valor real y el predicho\n"
     ]
    },
    {
     "data": {
      "text/plain": [
       "<function matplotlib.pyplot.show(close=None, block=None)>"
      ]
     },
     "execution_count": 42,
     "metadata": {},
     "output_type": "execute_result"
    },
    {
     "data": {
      "image/png": "[encoded data removed]",
      "text/plain": [
       "<Figure size 432x288 with 1 Axes>"
      ]
     },
     "metadata": {
      "needs_background": "light"
     },
     "output_type": "display_data"
    }
   ],
   "source": [
    "print('Primero vemos las metricas')\n",
    "abr_score = model3.score(X_train,y_train) #Se evalua que tan bien entredo \n",
    "abr_score1 = model3.score(X_test,y_test) #Que tan bueno es en el conjunto de test\n",
    "y_predicted = model3.predict(X_test) #Hacemos la inferencia con el conjunto test\n",
    "yp = y_predicted# * sb + mb\n",
    "yt = y_test #* sb + mb\n",
    "print('Model| R2 sq on train set: %.4f'% abr_score)  #Mostramos las metricas que se obtuvieron.\n",
    "print('Model| R2 sq on test set: %.4f'% abr_score1)\n",
    "print('Model| MSE on test set: %.4f'% mean_squared_error(yt, yp))\n",
    "print('Model| MAE on test set: %.4f'% mean_absolute_error(yt, yp))   \n",
    "\n",
    "print('Ahora lo que vemos son la diferencia entre el valor real y el predicho')\n",
    "dif = yp-yt\n",
    "plt.hist(x=dif, bins=25, color='#F2AB6D', rwidth=0.85, density = True)\n",
    "plt.title('Histograma de Diferencia entre el valor real y predicho')\n",
    "plt.xlabel('Diferencia')\n",
    "plt.ylabel('Frecuencia')\n",
    "plt.xticks(range(-3,4))\n",
    "plt.show"
   ]
  },
  {
   "cell_type": "code",
   "execution_count": 43,
   "id": "436b87e5",
   "metadata": {},
   "outputs": [
    {
     "name": "stdout",
     "output_type": "stream",
     "text": [
      "Lo que vemos es el valor predicho y el real\n"
     ]
    },
    {
     "data": {
      "text/plain": [
       "<function matplotlib.pyplot.show(close=None, block=None)>"
      ]
     },
     "execution_count": 43,
     "metadata": {},
     "output_type": "execute_result"
    },
    {
     "data": {
      "image/png": "[encoded data removed]",
      "text/plain": [
       "<Figure size 432x288 with 1 Axes>"
      ]
     },
     "metadata": {
      "needs_background": "light"
     },
     "output_type": "display_data"
    }
   ],
   "source": [
    "print('Lo que vemos es el valor predicho y el real')\n",
    "plt.plot(yt,yp,'o')\n",
    "plt.plot(y_test,y_test,'o')\n",
    "plt.grid()\n",
    "plt.show"
   ]
  },
  {
   "cell_type": "code",
   "execution_count": 46,
   "id": "7885d8e1",
   "metadata": {},
   "outputs": [
    {
     "name": "stdout",
     "output_type": "stream",
     "text": [
      "Fitting 5 folds for each of 3 candidates, totalling 15 fits\n",
      "[CV 1/5] END learning_rate=0.1, loss=squared_error, max_depth=8, min_samples_split=2, n_estimators=100, random_state=72;, score=0.723 total time=   0.1s\n",
      "[CV 2/5] END learning_rate=0.1, loss=squared_error, max_depth=8, min_samples_split=2, n_estimators=100, random_state=72;, score=0.763 total time=   0.1s\n",
      "[CV 3/5] END learning_rate=0.1, loss=squared_error, max_depth=8, min_samples_split=2, n_estimators=100, random_state=72;, score=0.825 total time=   0.1s\n",
      "[CV 4/5] END learning_rate=0.1, loss=squared_error, max_depth=8, min_samples_split=2, n_estimators=100, random_state=72;, score=0.876 total time=   0.1s\n",
      "[CV 5/5] END learning_rate=0.1, loss=squared_error, max_depth=8, min_samples_split=2, n_estimators=100, random_state=72;, score=0.912 total time=   0.1s\n",
      "[CV 1/5] END learning_rate=0.1, loss=squared_error, max_depth=8, min_samples_split=2, n_estimators=10, random_state=72;, score=0.685 total time=   0.0s\n",
      "[CV 2/5] END learning_rate=0.1, loss=squared_error, max_depth=8, min_samples_split=2, n_estimators=10, random_state=72;, score=0.696 total time=   0.0s\n",
      "[CV 3/5] END learning_rate=0.1, loss=squared_error, max_depth=8, min_samples_split=2, n_estimators=10, random_state=72;, score=0.701 total time=   0.0s\n",
      "[CV 4/5] END learning_rate=0.1, loss=squared_error, max_depth=8, min_samples_split=2, n_estimators=10, random_state=72;, score=0.761 total time=   0.0s\n",
      "[CV 5/5] END learning_rate=0.1, loss=squared_error, max_depth=8, min_samples_split=2, n_estimators=10, random_state=72;, score=0.797 total time=   0.0s\n",
      "[CV 1/5] END learning_rate=0.1, loss=squared_error, max_depth=8, min_samples_split=2, n_estimators=3, random_state=72;, score=0.388 total time=   0.0s\n",
      "[CV 2/5] END learning_rate=0.1, loss=squared_error, max_depth=8, min_samples_split=2, n_estimators=3, random_state=72;, score=0.361 total time=   0.0s\n",
      "[CV 3/5] END learning_rate=0.1, loss=squared_error, max_depth=8, min_samples_split=2, n_estimators=3, random_state=72;, score=0.379 total time=   0.0s\n",
      "[CV 4/5] END learning_rate=0.1, loss=squared_error, max_depth=8, min_samples_split=2, n_estimators=3, random_state=72;, score=0.415 total time=   0.0s\n",
      "[CV 5/5] END learning_rate=0.1, loss=squared_error, max_depth=8, min_samples_split=2, n_estimators=3, random_state=72;, score=0.427 total time=   0.0s\n"
     ]
    }
   ],
   "source": [
    "gbr = GridSearchCV(GradientBoostingRegressor (),{'n_estimators': [100,10,3], 'max_depth': [8], 'min_samples_split': [2], 'learning_rate': [0.1],\n",
    "    'loss': ['squared_error'], 'random_state':[72]}, cv=5, verbose = 3)\n",
    "#loss = 'ls', este es least squares\n",
    "gbr.fit(X_train, y_train) #Entrenamos el modelo\n",
    "model4 = gbr.best_estimator_ #Nos quedamos con el mejor modelo"
   ]
  },
  {
   "cell_type": "code",
   "execution_count": 47,
   "id": "550b010b",
   "metadata": {},
   "outputs": [
    {
     "name": "stdout",
     "output_type": "stream",
     "text": [
      "Primero vemos las metricas\n",
      "Model| R2 sq on train set: 1.0000\n",
      "Model| R2 sq on test set: 0.5992\n",
      "Model| MSE on test set: 0.3017\n",
      "Model| MAE on test set: 0.3194\n",
      "Ahora lo que vemos son la diferencia entre el valor real y el predicho\n"
     ]
    },
    {
     "data": {
      "text/plain": [
       "<function matplotlib.pyplot.show(close=None, block=None)>"
      ]
     },
     "execution_count": 47,
     "metadata": {},
     "output_type": "execute_result"
    },
    {
     "data": {
      "image/png": "[encoded data removed]",
      "text/plain": [
       "<Figure size 432x288 with 1 Axes>"
      ]
     },
     "metadata": {
      "needs_background": "light"
     },
     "output_type": "display_data"
    }
   ],
   "source": [
    "print('Primero vemos las metricas')\n",
    "abr_score = model4.score(X_train,y_train) #Se evalua que tan bien entredo \n",
    "abr_score1 = model4.score(X_test,y_test) #Que tan bueno es en el conjunto de test\n",
    "y_predicted = model4.predict(X_test) #Hacemos la inferencia con el conjunto test\n",
    "yp = y_predicted# * sb + mb\n",
    "yt = y_test #* sb + mb\n",
    "print('Model| R2 sq on train set: %.4f'% abr_score)  #Mostramos las metricas que se obtuvieron.\n",
    "print('Model| R2 sq on test set: %.4f'% abr_score1)\n",
    "print('Model| MSE on test set: %.4f'% mean_squared_error(yt, yp))\n",
    "print('Model| MAE on test set: %.4f'% mean_absolute_error(yt, yp))   \n",
    "\n",
    "print('Ahora lo que vemos son la diferencia entre el valor real y el predicho')\n",
    "dif = yp-yt\n",
    "plt.hist(x=dif, bins=25, color='#F2AB6D', rwidth=0.85, density = True)\n",
    "plt.title('Histograma de Diferencia entre el valor real y predicho')\n",
    "plt.xlabel('Diferencia')\n",
    "plt.ylabel('Frecuencia')\n",
    "plt.xticks(range(-3,4))\n",
    "plt.show"
   ]
  },
  {
   "cell_type": "code",
   "execution_count": 48,
   "id": "031fb1d4",
   "metadata": {},
   "outputs": [
    {
     "name": "stdout",
     "output_type": "stream",
     "text": [
      "Lo que vemos es el valor predicho y el real\n"
     ]
    },
    {
     "data": {
      "text/plain": [
       "<function matplotlib.pyplot.show(close=None, block=None)>"
      ]
     },
     "execution_count": 48,
     "metadata": {},
     "output_type": "execute_result"
    },
    {
     "data": {
      "image/png": "[encoded data removed]",
      "text/plain": [
       "<Figure size 432x288 with 1 Axes>"
      ]
     },
     "metadata": {
      "needs_background": "light"
     },
     "output_type": "display_data"
    }
   ],
   "source": [
    "print('Lo que vemos es el valor predicho y el real')\n",
    "plt.plot(yt,yp,'o')\n",
    "plt.plot(y_test,y_test,'o')\n",
    "plt.grid()\n",
    "plt.show"
   ]
  },
  {
   "cell_type": "code",
   "execution_count": 50,
   "id": "b07e2bd6",
   "metadata": {},
   "outputs": [
    {
     "name": "stdout",
     "output_type": "stream",
     "text": [
      "Fitting 5 folds for each of 1 candidates, totalling 5 fits\n",
      "[CV 1/5] END .......alpha=0.001, kernel=linear;, score=-0.160 total time=   0.7s\n",
      "[CV 2/5] END ........alpha=0.001, kernel=linear;, score=0.277 total time=   0.0s\n",
      "[CV 3/5] END ........alpha=0.001, kernel=linear;, score=0.443 total time=   0.0s\n",
      "[CV 4/5] END ........alpha=0.001, kernel=linear;, score=0.660 total time=   0.0s\n",
      "[CV 5/5] END ........alpha=0.001, kernel=linear;, score=0.465 total time=   0.0s\n"
     ]
    }
   ],
   "source": [
    "krr = GridSearchCV (KernelRidge (),{ 'alpha':[0.001],'kernel':['linear']}, cv=5,verbose=3)\n",
    "krr.fit(X_train, y_train) #Entrenamos el modelo\n",
    "model5 = krr.best_estimator_ #Nos quedamos con el mejor modelo"
   ]
  },
  {
   "cell_type": "code",
   "execution_count": 57,
   "id": "9db6fdd0",
   "metadata": {},
   "outputs": [
    {
     "name": "stdout",
     "output_type": "stream",
     "text": [
      "Primero vemos las metricas\n",
      "Model| R2 sq on train set: 0.5461\n",
      "Model| R2 sq on test set: 0.4101\n",
      "Model| MSE on test set: 0.4441\n",
      "Model| MAE on test set: 0.5826\n",
      "Ahora lo que vemos son la diferencia entre el valor real y el predicho\n"
     ]
    },
    {
     "data": {
      "text/plain": [
       "<function matplotlib.pyplot.show(close=None, block=None)>"
      ]
     },
     "execution_count": 57,
     "metadata": {},
     "output_type": "execute_result"
    },
    {
     "data": {
      "image/png": "[encoded data removed]",
      "text/plain": [
       "<Figure size 432x288 with 1 Axes>"
      ]
     },
     "metadata": {
      "needs_background": "light"
     },
     "output_type": "display_data"
    }
   ],
   "source": [
    "print('Primero vemos las metricas')\n",
    "abr_score = model5.score(X_train,y_train) #Se evalua que tan bien entredo \n",
    "abr_score1 = model5.score(X_test,y_test) #Que tan bueno es en el conjunto de test\n",
    "y_predicted = model5.predict(X_test) #Hacemos la inferencia con el conjunto test\n",
    "yp = y_predicted# * sb + mb\n",
    "yt = y_test #* sb + mb\n",
    "print('Model| R2 sq on train set: %.4f'% abr_score)  #Mostramos las metricas que se obtuvieron.\n",
    "print('Model| R2 sq on test set: %.4f'% abr_score1)\n",
    "print('Model| MSE on test set: %.4f'% mean_squared_error(yt, yp))\n",
    "print('Model| MAE on test set: %.4f'% mean_absolute_error(yt, yp))   \n",
    "\n",
    "print('Ahora lo que vemos son la diferencia entre el valor real y el predicho')\n",
    "dif = yp-yt\n",
    "plt.hist(x=dif, bins=25, color='#F2AB6D', rwidth=0.85, density = True)\n",
    "plt.title('Histograma de Diferencia entre el valor real y predicho')\n",
    "plt.xlabel('Diferencia')\n",
    "plt.ylabel('Frecuencia')\n",
    "plt.xticks(range(-3,4))\n",
    "plt.show"
   ]
  },
  {
   "cell_type": "code",
   "execution_count": 58,
   "id": "0e0ea760",
   "metadata": {},
   "outputs": [
    {
     "name": "stdout",
     "output_type": "stream",
     "text": [
      "Lo que vemos es el valor predicho y el real\n"
     ]
    },
    {
     "data": {
      "text/plain": [
       "<function matplotlib.pyplot.show(close=None, block=None)>"
      ]
     },
     "execution_count": 58,
     "metadata": {},
     "output_type": "execute_result"
    },
    {
     "data": {
      "image/png": "[encoded data removed]",
      "text/plain": [
       "<Figure size 432x288 with 1 Axes>"
      ]
     },
     "metadata": {
      "needs_background": "light"
     },
     "output_type": "display_data"
    }
   ],
   "source": [
    "print('Lo que vemos es el valor predicho y el real')\n",
    "plt.plot(yt,yp,'o')\n",
    "plt.plot(y_test,y_test,'o')\n",
    "plt.grid()\n",
    "plt.show"
   ]
  },
  {
   "cell_type": "code",
   "execution_count": 59,
   "id": "532d3807",
   "metadata": {},
   "outputs": [],
   "source": [
    "knr1 = KNeighborsRegressor(n_neighbors = 4, weights = 'distance', algorithm = 'ball_tree')\n",
    "knr1.fit(X_train, y_train)\n",
    "model6 = knr1"
   ]
  },
  {
   "cell_type": "code",
   "execution_count": 60,
   "id": "dc43e14b",
   "metadata": {},
   "outputs": [
    {
     "name": "stdout",
     "output_type": "stream",
     "text": [
      "Primero vemos las metricas\n",
      "Model| R2 sq on train set: 1.0000\n",
      "Model| R2 sq on test set: 0.5741\n",
      "Model| MSE on test set: 0.3206\n",
      "Model| MAE on test set: 0.4123\n",
      "Ahora lo que vemos son la diferencia entre el valor real y el predicho\n"
     ]
    },
    {
     "data": {
      "text/plain": [
       "<function matplotlib.pyplot.show(close=None, block=None)>"
      ]
     },
     "execution_count": 60,
     "metadata": {},
     "output_type": "execute_result"
    },
    {
     "data": {
      "image/png": "[encoded data removed]",
      "text/plain": [
       "<Figure size 432x288 with 1 Axes>"
      ]
     },
     "metadata": {
      "needs_background": "light"
     },
     "output_type": "display_data"
    }
   ],
   "source": [
    "print('Primero vemos las metricas')\n",
    "abr_score = model6.score(X_train,y_train) #Se evalua que tan bien entredo \n",
    "abr_score1 = model6.score(X_test,y_test) #Que tan bueno es en el conjunto de test\n",
    "y_predicted = model6.predict(X_test) #Hacemos la inferencia con el conjunto test\n",
    "yp = y_predicted# * sb + mb\n",
    "yt = y_test #* sb + mb\n",
    "print('Model| R2 sq on train set: %.4f'% abr_score)  #Mostramos las metricas que se obtuvieron.\n",
    "print('Model| R2 sq on test set: %.4f'% abr_score1)\n",
    "print('Model| MSE on test set: %.4f'% mean_squared_error(yt, yp))\n",
    "print('Model| MAE on test set: %.4f'% mean_absolute_error(yt, yp))   \n",
    "\n",
    "print('Ahora lo que vemos son la diferencia entre el valor real y el predicho')\n",
    "dif = yp-yt\n",
    "plt.hist(x=dif, bins=25, color='#F2AB6D', rwidth=0.85, density = True)\n",
    "plt.title('Histograma de Diferencia entre el valor real y predicho')\n",
    "plt.xlabel('Diferencia')\n",
    "plt.ylabel('Frecuencia')\n",
    "plt.xticks(range(-3,4))\n",
    "plt.show"
   ]
  },
  {
   "cell_type": "code",
   "execution_count": 61,
   "id": "c5605f93",
   "metadata": {},
   "outputs": [
    {
     "name": "stdout",
     "output_type": "stream",
     "text": [
      "Lo que vemos es el valor predicho y el real\n"
     ]
    },
    {
     "data": {
      "text/plain": [
       "<function matplotlib.pyplot.show(close=None, block=None)>"
      ]
     },
     "execution_count": 61,
     "metadata": {},
     "output_type": "execute_result"
    },
    {
     "data": {
      "image/png": "[encoded data removed]",
      "text/plain": [
       "<Figure size 432x288 with 1 Axes>"
      ]
     },
     "metadata": {
      "needs_background": "light"
     },
     "output_type": "display_data"
    }
   ],
   "source": [
    "print('Lo que vemos es el valor predicho y el real')\n",
    "plt.plot(yt,yp,'o')\n",
    "plt.plot(y_test,y_test,'o')\n",
    "plt.grid()\n",
    "plt.show"
   ]
  },
  {
   "cell_type": "code",
   "execution_count": 63,
   "id": "b02e5244",
   "metadata": {},
   "outputs": [
    {
     "name": "stdout",
     "output_type": "stream",
     "text": [
      "Fitting 5 folds for each of 1 candidates, totalling 5 fits\n",
      "[CV 1/5] END max_iter=1000, random_state=10, tol=1e-10;, score=-0.377 total time=   0.0s\n",
      "[CV 2/5] END max_iter=1000, random_state=10, tol=1e-10;, score=-0.282 total time=   0.0s\n",
      "[CV 3/5] END max_iter=1000, random_state=10, tol=1e-10;, score=-0.064 total time=   0.0s\n",
      "[CV 4/5] END max_iter=1000, random_state=10, tol=1e-10;, score=-0.301 total time=   0.0s\n",
      "[CV 5/5] END max_iter=1000, random_state=10, tol=1e-10;, score=0.260 total time=   0.0s\n"
     ]
    }
   ],
   "source": [
    "par = GridSearchCV (PassiveAggressiveRegressor(),{'max_iter':[1000], 'random_state':[10], 'tol':[1e-10]},\n",
    "                   cv=5,verbose = 3)\n",
    "#loss = 'ls', este es least squares\n",
    "par.fit(X_train, y_train) #Entrenamos el modelo\n",
    "model7 = par.best_estimator_ #Nos quedamos con el mejor modelo"
   ]
  },
  {
   "cell_type": "code",
   "execution_count": 65,
   "id": "24898e1e",
   "metadata": {},
   "outputs": [
    {
     "name": "stdout",
     "output_type": "stream",
     "text": [
      "Primero vemos las metricas\n",
      "Model| R2 sq on train set: -0.1103\n",
      "Model| R2 sq on test set: 0.1691\n",
      "Model| MSE on test set: 0.6255\n",
      "Model| MAE on test set: 0.6154\n",
      "Ahora lo que vemos son la diferencia entre el valor real y el predicho\n"
     ]
    },
    {
     "data": {
      "text/plain": [
       "<function matplotlib.pyplot.show(close=None, block=None)>"
      ]
     },
     "execution_count": 65,
     "metadata": {},
     "output_type": "execute_result"
    },
    {
     "data": {
      "image/png": "[encoded data removed]",
      "text/plain": [
       "<Figure size 432x288 with 1 Axes>"
      ]
     },
     "metadata": {
      "needs_background": "light"
     },
     "output_type": "display_data"
    }
   ],
   "source": [
    "print('Primero vemos las metricas')\n",
    "abr_score = model7.score(X_train,y_train) #Se evalua que tan bien entredo \n",
    "abr_score1 = model7.score(X_test,y_test) #Que tan bueno es en el conjunto de test\n",
    "y_predicted = model7.predict(X_test) #Hacemos la inferencia con el conjunto test\n",
    "yp = y_predicted# * sb + mb\n",
    "yt = y_test #* sb + mb\n",
    "print('Model| R2 sq on train set: %.4f'% abr_score)  #Mostramos las metricas que se obtuvieron.\n",
    "print('Model| R2 sq on test set: %.4f'% abr_score1)\n",
    "print('Model| MSE on test set: %.4f'% mean_squared_error(yt, yp))\n",
    "print('Model| MAE on test set: %.4f'% mean_absolute_error(yt, yp))   \n",
    "\n",
    "print('Ahora lo que vemos son la diferencia entre el valor real y el predicho')\n",
    "dif = yp-yt\n",
    "plt.hist(x=dif, bins=25, color='#F2AB6D', rwidth=0.85, density = True)\n",
    "plt.title('Histograma de Diferencia entre el valor real y predicho')\n",
    "plt.xlabel('Diferencia')\n",
    "plt.ylabel('Frecuencia')\n",
    "plt.xticks(range(-3,4))\n",
    "plt.show"
   ]
  },
  {
   "cell_type": "code",
   "execution_count": 66,
   "id": "dab0c18f",
   "metadata": {},
   "outputs": [
    {
     "name": "stdout",
     "output_type": "stream",
     "text": [
      "Lo que vemos es el valor predicho y el real\n"
     ]
    },
    {
     "data": {
      "text/plain": [
       "<function matplotlib.pyplot.show(close=None, block=None)>"
      ]
     },
     "execution_count": 66,
     "metadata": {},
     "output_type": "execute_result"
    },
    {
     "data": {
      "image/png": "[encoded data removed]",
      "text/plain": [
       "<Figure size 432x288 with 1 Axes>"
      ]
     },
     "metadata": {
      "needs_background": "light"
     },
     "output_type": "display_data"
    }
   ],
   "source": [
    "print('Lo que vemos es el valor predicho y el real')\n",
    "plt.plot(yt,yp,'o')\n",
    "plt.plot(y_test,y_test,'o')\n",
    "plt.grid()\n",
    "plt.show"
   ]
  },
  {
   "cell_type": "code",
   "execution_count": 69,
   "id": "a51fb330",
   "metadata": {},
   "outputs": [
    {
     "name": "stdout",
     "output_type": "stream",
     "text": [
      "Fitting 5 folds for each of 1 candidates, totalling 5 fits\n",
      "[CV 1/5] END criterion=squared_error, max_depth=100, random_state=0;, score=0.737 total time=   0.2s\n",
      "[CV 2/5] END criterion=squared_error, max_depth=100, random_state=0;, score=0.832 total time=   0.2s\n",
      "[CV 3/5] END criterion=squared_error, max_depth=100, random_state=0;, score=0.768 total time=   0.2s\n",
      "[CV 4/5] END criterion=squared_error, max_depth=100, random_state=0;, score=0.915 total time=   0.2s\n",
      "[CV 5/5] END criterion=squared_error, max_depth=100, random_state=0;, score=0.939 total time=   0.2s\n"
     ]
    }
   ],
   "source": [
    "grid1 = GridSearchCV (RandomForestRegressor(),{'max_depth':[100], 'random_state':[0], 'criterion':['squared_error']\n",
    "                                             }, cv=5, refit=True, verbose=3)\n",
    "grid1.fit(X_train,y_train)\n",
    "#Aqui lo que hacemos es quedarnos con el mejor metodo, el que da mejores resultados, lo llamamos en este caso: model1\n",
    "model8 = grid1.best_estimator_"
   ]
  },
  {
   "cell_type": "code",
   "execution_count": 70,
   "id": "6e2f4d85",
   "metadata": {},
   "outputs": [
    {
     "name": "stdout",
     "output_type": "stream",
     "text": [
      "Primero vemos las metricas\n",
      "Model| R2 sq on train set: 0.9803\n",
      "Model| R2 sq on test set: 0.6867\n",
      "Model| MSE on test set: 0.2358\n",
      "Model| MAE on test set: 0.3266\n",
      "Ahora lo que vemos son la diferencia entre el valor real y el predicho\n"
     ]
    },
    {
     "data": {
      "text/plain": [
       "<function matplotlib.pyplot.show(close=None, block=None)>"
      ]
     },
     "execution_count": 70,
     "metadata": {},
     "output_type": "execute_result"
    },
    {
     "data": {
      "image/png": "[encoded data removed]",
      "text/plain": [
       "<Figure size 432x288 with 1 Axes>"
      ]
     },
     "metadata": {
      "needs_background": "light"
     },
     "output_type": "display_data"
    }
   ],
   "source": [
    "print('Primero vemos las metricas')\n",
    "abr_score = model8.score(X_train,y_train) #Se evalua que tan bien entredo \n",
    "abr_score1 = model8.score(X_test,y_test) #Que tan bueno es en el conjunto de test\n",
    "y_predicted = model8.predict(X_test) #Hacemos la inferencia con el conjunto test\n",
    "yp = y_predicted# * sb + mb\n",
    "yt = y_test #* sb + mb\n",
    "print('Model| R2 sq on train set: %.4f'% abr_score)  #Mostramos las metricas que se obtuvieron.\n",
    "print('Model| R2 sq on test set: %.4f'% abr_score1)\n",
    "print('Model| MSE on test set: %.4f'% mean_squared_error(yt, yp))\n",
    "print('Model| MAE on test set: %.4f'% mean_absolute_error(yt, yp))   \n",
    "\n",
    "print('Ahora lo que vemos son la diferencia entre el valor real y el predicho')\n",
    "dif = yp-yt\n",
    "plt.hist(x=dif, bins=25, color='#F2AB6D', rwidth=0.85, density = True)\n",
    "plt.title('Histograma de Diferencia entre el valor real y predicho')\n",
    "plt.xlabel('Diferencia')\n",
    "plt.ylabel('Frecuencia')\n",
    "plt.xticks(range(-3,4))\n",
    "plt.show"
   ]
  },
  {
   "cell_type": "code",
   "execution_count": 71,
   "id": "6ee8e278",
   "metadata": {},
   "outputs": [
    {
     "name": "stdout",
     "output_type": "stream",
     "text": [
      "Lo que vemos es el valor predicho y el real\n"
     ]
    },
    {
     "data": {
      "text/plain": [
       "<function matplotlib.pyplot.show(close=None, block=None)>"
      ]
     },
     "execution_count": 71,
     "metadata": {},
     "output_type": "execute_result"
    },
    {
     "data": {
      "image/png": "[encoded data removed]",
      "text/plain": [
       "<Figure size 432x288 with 1 Axes>"
      ]
     },
     "metadata": {
      "needs_background": "light"
     },
     "output_type": "display_data"
    }
   ],
   "source": [
    "print('Lo que vemos es el valor predicho y el real')\n",
    "plt.plot(yt,yp,'o')\n",
    "plt.plot(y_test,y_test,'o')\n",
    "plt.grid()\n",
    "plt.show"
   ]
  },
  {
   "cell_type": "code",
   "execution_count": 75,
   "id": "22e03884",
   "metadata": {},
   "outputs": [],
   "source": [
    "sgd = (make_pipeline(StandardScaler(),SGDRegressor(max_iter=1000,tol=1e-1500,alpha=0.0001,epsilon=0.0001)))\n",
    "sgd.fit(X_train, y_train) #Entrenamos el modelo\n",
    "model9 = sgd #Nos quedamos con el mejor modelo"
   ]
  },
  {
   "cell_type": "code",
   "execution_count": 77,
   "id": "1d0d8d1e",
   "metadata": {},
   "outputs": [
    {
     "name": "stdout",
     "output_type": "stream",
     "text": [
      "Primero vemos las metricas\n",
      "Model| R2 sq on train set: 0.5097\n",
      "Model| R2 sq on test set: 0.3687\n",
      "Model| MSE on test set: 0.4752\n",
      "Model| MAE on test set: 0.6004\n",
      "Ahora lo que vemos son la diferencia entre el valor real y el predicho\n"
     ]
    },
    {
     "data": {
      "text/plain": [
       "<function matplotlib.pyplot.show(close=None, block=None)>"
      ]
     },
     "execution_count": 77,
     "metadata": {},
     "output_type": "execute_result"
    },
    {
     "data": {
      "image/png": "[encoded data removed]",
      "text/plain": [
       "<Figure size 432x288 with 1 Axes>"
      ]
     },
     "metadata": {
      "needs_background": "light"
     },
     "output_type": "display_data"
    }
   ],
   "source": [
    "print('Primero vemos las metricas')\n",
    "abr_score = model9.score(X_train,y_train) #Se evalua que tan bien entredo \n",
    "abr_score1 = model9.score(X_test,y_test) #Que tan bueno es en el conjunto de test\n",
    "y_predicted = model9.predict(X_test) #Hacemos la inferencia con el conjunto test\n",
    "yp = y_predicted# * sb + mb\n",
    "yt = y_test #* sb + mb\n",
    "print('Model| R2 sq on train set: %.4f'% abr_score)  #Mostramos las metricas que se obtuvieron.\n",
    "print('Model| R2 sq on test set: %.4f'% abr_score1)\n",
    "print('Model| MSE on test set: %.4f'% mean_squared_error(yt, yp))\n",
    "print('Model| MAE on test set: %.4f'% mean_absolute_error(yt, yp))   \n",
    "\n",
    "print('Ahora lo que vemos son la diferencia entre el valor real y el predicho')\n",
    "dif = yp-yt\n",
    "plt.hist(x=dif, bins=25, color='#F2AB6D', rwidth=0.85, density = True)\n",
    "plt.title('Histograma de Diferencia entre el valor real y predicho')\n",
    "plt.xlabel('Diferencia')\n",
    "plt.ylabel('Frecuencia')\n",
    "plt.xticks(range(-3,4))\n",
    "plt.show"
   ]
  },
  {
   "cell_type": "code",
   "execution_count": 78,
   "id": "7bbddd29",
   "metadata": {},
   "outputs": [
    {
     "name": "stdout",
     "output_type": "stream",
     "text": [
      "Lo que vemos es el valor predicho y el real\n"
     ]
    },
    {
     "data": {
      "text/plain": [
       "<function matplotlib.pyplot.show(close=None, block=None)>"
      ]
     },
     "execution_count": 78,
     "metadata": {},
     "output_type": "execute_result"
    },
    {
     "data": {
      "image/png": "[encoded data removed]",
      "text/plain": [
       "<Figure size 432x288 with 1 Axes>"
      ]
     },
     "metadata": {
      "needs_background": "light"
     },
     "output_type": "display_data"
    }
   ],
   "source": [
    "print('Lo que vemos es el valor predicho y el real')\n",
    "plt.plot(yt,yp,'o')\n",
    "plt.plot(y_test,y_test,'o')\n",
    "plt.grid()\n",
    "plt.show"
   ]
  },
  {
   "cell_type": "code",
   "execution_count": 81,
   "id": "d6131404",
   "metadata": {},
   "outputs": [
    {
     "name": "stdout",
     "output_type": "stream",
     "text": [
      "Fitting 5 folds for each of 1 candidates, totalling 5 fits\n"
     ]
    }
   ],
   "source": [
    "steps1 = [('scaler', StandardScaler()), ('SVM', SVR())]\n",
    "pipeline1 = Pipeline(steps1) \n",
    "grid1 = GridSearchCV(pipeline1, param_grid= {'SVM__C':[100], 'SVM__gamma':['auto'], 'SVM__kernel': ['rbf'],\n",
    "                                           'SVM__epsilon':[0.001]},cv = 5, refit=True,verbose=3, n_jobs = -1)\n",
    "grid1.fit(X_train,y_train)\n",
    "#Aqui lo que hacemos es quedarnos con el mejor metodo, el que da mejores resultados, lo llamamos en este caso: model1\n",
    "model10 = grid1.best_estimator_"
   ]
  },
  {
   "cell_type": "code",
   "execution_count": 82,
   "id": "24d5d304",
   "metadata": {},
   "outputs": [
    {
     "name": "stdout",
     "output_type": "stream",
     "text": [
      "Primero vemos las metricas\n",
      "Model| R2 sq on train set: 0.8891\n",
      "Model| R2 sq on test set: 0.5019\n",
      "Model| MSE on test set: 0.3750\n",
      "Model| MAE on test set: 0.5077\n",
      "Ahora lo que vemos son la diferencia entre el valor real y el predicho\n"
     ]
    },
    {
     "data": {
      "text/plain": [
       "<function matplotlib.pyplot.show(close=None, block=None)>"
      ]
     },
     "execution_count": 82,
     "metadata": {},
     "output_type": "execute_result"
    },
    {
     "data": {
      "image/png": "[encoded data removed]",
      "text/plain": [
       "<Figure size 432x288 with 1 Axes>"
      ]
     },
     "metadata": {
      "needs_background": "light"
     },
     "output_type": "display_data"
    }
   ],
   "source": [
    "print('Primero vemos las metricas')\n",
    "abr_score = model10.score(X_train,y_train) #Se evalua que tan bien entredo \n",
    "abr_score1 = model10.score(X_test,y_test) #Que tan bueno es en el conjunto de test\n",
    "y_predicted = model10.predict(X_test) #Hacemos la inferencia con el conjunto test\n",
    "yp = y_predicted# * sb + mb\n",
    "yt = y_test #* sb + mb\n",
    "print('Model| R2 sq on train set: %.4f'% abr_score)  #Mostramos las metricas que se obtuvieron.\n",
    "print('Model| R2 sq on test set: %.4f'% abr_score1)\n",
    "print('Model| MSE on test set: %.4f'% mean_squared_error(yt, yp))\n",
    "print('Model| MAE on test set: %.4f'% mean_absolute_error(yt, yp))   \n",
    "\n",
    "print('Ahora lo que vemos son la diferencia entre el valor real y el predicho')\n",
    "dif = yp-yt\n",
    "plt.hist(x=dif, bins=25, color='#F2AB6D', rwidth=0.85, density = True)\n",
    "plt.title('Histograma de Diferencia entre el valor real y predicho')\n",
    "plt.xlabel('Diferencia')\n",
    "plt.ylabel('Frecuencia')\n",
    "plt.xticks(range(-3,4))\n",
    "plt.show"
   ]
  },
  {
   "cell_type": "code",
   "execution_count": 83,
   "id": "96d404d2",
   "metadata": {},
   "outputs": [
    {
     "name": "stdout",
     "output_type": "stream",
     "text": [
      "Lo que vemos es el valor predicho y el real\n"
     ]
    },
    {
     "data": {
      "text/plain": [
       "<function matplotlib.pyplot.show(close=None, block=None)>"
      ]
     },
     "execution_count": 83,
     "metadata": {},
     "output_type": "execute_result"
    },
    {
     "data": {
      "image/png": "[encoded data removed]",
      "text/plain": [
       "<Figure size 432x288 with 1 Axes>"
      ]
     },
     "metadata": {
      "needs_background": "light"
     },
     "output_type": "display_data"
    }
   ],
   "source": [
    "print('Lo que vemos es el valor predicho y el real')\n",
    "plt.plot(yt,yp,'o')\n",
    "plt.plot(y_test,y_test,'o')\n",
    "plt.grid()\n",
    "plt.show"
   ]
  },
  {
   "cell_type": "code",
   "execution_count": null,
   "id": "50b1c5e4",
   "metadata": {},
   "outputs": [],
   "source": []
  }
 ],
 "metadata": {
  "kernelspec": {
   "display_name": "Python 3 (ipykernel)",
   "language": "python",
   "name": "python3"
  },
  "language_info": {
   "codemirror_mode": {
    "name": "ipython",
    "version": 3
   },
   "file_extension": ".py",
   "mimetype": "text/x-python",
   "name": "python",
   "nbconvert_exporter": "python",
   "pygments_lexer": "ipython3",
   "version": "3.9.7"
  }
 },
 "nbformat": 4,
 "nbformat_minor": 5
}
