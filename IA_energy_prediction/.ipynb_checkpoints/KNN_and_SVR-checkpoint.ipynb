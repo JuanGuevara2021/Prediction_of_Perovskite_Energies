{
 "cells": [
  {
   "cell_type": "code",
   "execution_count": 1,
   "id": "70c8e76e",
   "metadata": {},
   "outputs": [],
   "source": [
    "import pandas as pd\n",
    "import numpy as np\n",
    "import time\n",
    "from sklearn import preprocessing\n",
    "from sklearn.model_selection import train_test_split\n",
    "import matplotlib.pyplot as plt\n",
    "import seaborn as sns\n",
    "from sklearn.metrics import mean_squared_error, r2_score, mean_absolute_error\n",
    "from sklearn import ensemble\n",
    "from sklearn.ensemble import GradientBoostingRegressor\n",
    "from sklearn.cluster import KMeans\n",
    "from sklearn.model_selection import cross_val_score\n",
    "from sklearn.model_selection import GridSearchCV \n",
    "from sklearn.ensemble import AdaBoostRegressor\n",
    "from sklearn.preprocessing import StandardScaler\n",
    "import matplotlib.pyplot as plot\n",
    "from sklearn.model_selection import learning_curve \n",
    "from sklearn.svm import SVR\n",
    "from sklearn.pipeline import Pipeline\n",
    "from sklearn.pipeline import make_pipeline\n",
    "from sklearn.preprocessing import StandardScaler\n",
    "from sklearn.neighbors import KNeighborsRegressor"
   ]
  },
  {
   "cell_type": "code",
   "execution_count": 2,
   "id": "48d056ce",
   "metadata": {},
   "outputs": [],
   "source": [
    "df1 = pd.read_csv('JUAN-Perovskite.csv') #Aqui lo que se hace es cargar los datos.\n",
    "x = df1.drop(\"Band_gap\",axis = 1) #Aqui quitamos la columna que correponde a la energia de gap\n",
    "x = x.drop(\"full_formula\",axis = 1) #Aqui quitamos los normbres de los compuestos \n",
    "y = np.asarray(df1['Band_gap']) #Aqui definimos la cantidad que deseamos predecir, en este caso la energia de gap\n",
    "x = (x-x.mean())/x.std()\n",
    "y = (y-y.mean())/y.std()\n",
    "x.full"
   ]
  },
  {
   "cell_type": "code",
   "execution_count": 3,
   "id": "2e61a9e6",
   "metadata": {},
   "outputs": [
    {
     "ename": "ValueError",
     "evalue": "Input contains NaN, infinity or a value too large for dtype('float64').",
     "output_type": "error",
     "traceback": [
      "\u001b[1;31m---------------------------------------------------------------------------\u001b[0m",
      "\u001b[1;31mValueError\u001b[0m                                Traceback (most recent call last)",
      "\u001b[1;32m~\\AppData\\Local\\Temp/ipykernel_4044/2655011219.py\u001b[0m in \u001b[0;36m<module>\u001b[1;34m\u001b[0m\n\u001b[0;32m      1\u001b[0m \u001b[0mX_train\u001b[0m\u001b[1;33m,\u001b[0m \u001b[0mX_test\u001b[0m\u001b[1;33m,\u001b[0m \u001b[0my_train\u001b[0m\u001b[1;33m,\u001b[0m \u001b[0my_test\u001b[0m \u001b[1;33m=\u001b[0m \u001b[0mtrain_test_split\u001b[0m\u001b[1;33m(\u001b[0m \u001b[0mx\u001b[0m\u001b[1;33m,\u001b[0m \u001b[0my\u001b[0m\u001b[1;33m,\u001b[0m \u001b[0mtest_size\u001b[0m\u001b[1;33m=\u001b[0m\u001b[1;36m0.1\u001b[0m\u001b[1;33m,\u001b[0m \u001b[0mrandom_state\u001b[0m\u001b[1;33m=\u001b[0m\u001b[1;36m9\u001b[0m\u001b[1;33m)\u001b[0m\u001b[1;33m\u001b[0m\u001b[1;33m\u001b[0m\u001b[0m\n\u001b[0;32m      2\u001b[0m \u001b[0mknr\u001b[0m \u001b[1;33m=\u001b[0m \u001b[0mKNeighborsRegressor\u001b[0m\u001b[1;33m(\u001b[0m\u001b[0mn_neighbors\u001b[0m \u001b[1;33m=\u001b[0m \u001b[1;36m6\u001b[0m\u001b[1;33m,\u001b[0m \u001b[0mweights\u001b[0m \u001b[1;33m=\u001b[0m \u001b[1;34m'distance'\u001b[0m\u001b[1;33m,\u001b[0m \u001b[0malgorithm\u001b[0m \u001b[1;33m=\u001b[0m \u001b[1;34m'ball_tree'\u001b[0m\u001b[1;33m)\u001b[0m\u001b[1;33m\u001b[0m\u001b[1;33m\u001b[0m\u001b[0m\n\u001b[1;32m----> 3\u001b[1;33m \u001b[0mknr\u001b[0m\u001b[1;33m.\u001b[0m\u001b[0mfit\u001b[0m\u001b[1;33m(\u001b[0m\u001b[0mX_train\u001b[0m\u001b[1;33m,\u001b[0m \u001b[0my_train\u001b[0m\u001b[1;33m)\u001b[0m\u001b[1;33m\u001b[0m\u001b[1;33m\u001b[0m\u001b[0m\n\u001b[0m\u001b[0;32m      4\u001b[0m \u001b[0mmodel\u001b[0m \u001b[1;33m=\u001b[0m \u001b[0mknr\u001b[0m\u001b[1;31m#Nos quedamos con el mejor modelo\u001b[0m\u001b[1;33m\u001b[0m\u001b[1;33m\u001b[0m\u001b[0m\n",
      "\u001b[1;32m~\\anaconda3\\lib\\site-packages\\sklearn\\neighbors\\_regression.py\u001b[0m in \u001b[0;36mfit\u001b[1;34m(self, X, y)\u001b[0m\n\u001b[0;32m    211\u001b[0m         \u001b[0mself\u001b[0m\u001b[1;33m.\u001b[0m\u001b[0mweights\u001b[0m \u001b[1;33m=\u001b[0m \u001b[0m_check_weights\u001b[0m\u001b[1;33m(\u001b[0m\u001b[0mself\u001b[0m\u001b[1;33m.\u001b[0m\u001b[0mweights\u001b[0m\u001b[1;33m)\u001b[0m\u001b[1;33m\u001b[0m\u001b[1;33m\u001b[0m\u001b[0m\n\u001b[0;32m    212\u001b[0m \u001b[1;33m\u001b[0m\u001b[0m\n\u001b[1;32m--> 213\u001b[1;33m         \u001b[1;32mreturn\u001b[0m \u001b[0mself\u001b[0m\u001b[1;33m.\u001b[0m\u001b[0m_fit\u001b[0m\u001b[1;33m(\u001b[0m\u001b[0mX\u001b[0m\u001b[1;33m,\u001b[0m \u001b[0my\u001b[0m\u001b[1;33m)\u001b[0m\u001b[1;33m\u001b[0m\u001b[1;33m\u001b[0m\u001b[0m\n\u001b[0m\u001b[0;32m    214\u001b[0m \u001b[1;33m\u001b[0m\u001b[0m\n\u001b[0;32m    215\u001b[0m     \u001b[1;32mdef\u001b[0m \u001b[0mpredict\u001b[0m\u001b[1;33m(\u001b[0m\u001b[0mself\u001b[0m\u001b[1;33m,\u001b[0m \u001b[0mX\u001b[0m\u001b[1;33m)\u001b[0m\u001b[1;33m:\u001b[0m\u001b[1;33m\u001b[0m\u001b[1;33m\u001b[0m\u001b[0m\n",
      "\u001b[1;32m~\\anaconda3\\lib\\site-packages\\sklearn\\neighbors\\_base.py\u001b[0m in \u001b[0;36m_fit\u001b[1;34m(self, X, y)\u001b[0m\n\u001b[0;32m    398\u001b[0m         \u001b[1;32mif\u001b[0m \u001b[0mself\u001b[0m\u001b[1;33m.\u001b[0m\u001b[0m_get_tags\u001b[0m\u001b[1;33m(\u001b[0m\u001b[1;33m)\u001b[0m\u001b[1;33m[\u001b[0m\u001b[1;34m\"requires_y\"\u001b[0m\u001b[1;33m]\u001b[0m\u001b[1;33m:\u001b[0m\u001b[1;33m\u001b[0m\u001b[1;33m\u001b[0m\u001b[0m\n\u001b[0;32m    399\u001b[0m             \u001b[1;32mif\u001b[0m \u001b[1;32mnot\u001b[0m \u001b[0misinstance\u001b[0m\u001b[1;33m(\u001b[0m\u001b[0mX\u001b[0m\u001b[1;33m,\u001b[0m \u001b[1;33m(\u001b[0m\u001b[0mKDTree\u001b[0m\u001b[1;33m,\u001b[0m \u001b[0mBallTree\u001b[0m\u001b[1;33m,\u001b[0m \u001b[0mNeighborsBase\u001b[0m\u001b[1;33m)\u001b[0m\u001b[1;33m)\u001b[0m\u001b[1;33m:\u001b[0m\u001b[1;33m\u001b[0m\u001b[1;33m\u001b[0m\u001b[0m\n\u001b[1;32m--> 400\u001b[1;33m                 \u001b[0mX\u001b[0m\u001b[1;33m,\u001b[0m \u001b[0my\u001b[0m \u001b[1;33m=\u001b[0m \u001b[0mself\u001b[0m\u001b[1;33m.\u001b[0m\u001b[0m_validate_data\u001b[0m\u001b[1;33m(\u001b[0m\u001b[0mX\u001b[0m\u001b[1;33m,\u001b[0m \u001b[0my\u001b[0m\u001b[1;33m,\u001b[0m \u001b[0maccept_sparse\u001b[0m\u001b[1;33m=\u001b[0m\u001b[1;34m\"csr\"\u001b[0m\u001b[1;33m,\u001b[0m \u001b[0mmulti_output\u001b[0m\u001b[1;33m=\u001b[0m\u001b[1;32mTrue\u001b[0m\u001b[1;33m)\u001b[0m\u001b[1;33m\u001b[0m\u001b[1;33m\u001b[0m\u001b[0m\n\u001b[0m\u001b[0;32m    401\u001b[0m \u001b[1;33m\u001b[0m\u001b[0m\n\u001b[0;32m    402\u001b[0m             \u001b[1;32mif\u001b[0m \u001b[0mis_classifier\u001b[0m\u001b[1;33m(\u001b[0m\u001b[0mself\u001b[0m\u001b[1;33m)\u001b[0m\u001b[1;33m:\u001b[0m\u001b[1;33m\u001b[0m\u001b[1;33m\u001b[0m\u001b[0m\n",
      "\u001b[1;32m~\\anaconda3\\lib\\site-packages\\sklearn\\base.py\u001b[0m in \u001b[0;36m_validate_data\u001b[1;34m(self, X, y, reset, validate_separately, **check_params)\u001b[0m\n\u001b[0;32m    579\u001b[0m                 \u001b[0my\u001b[0m \u001b[1;33m=\u001b[0m \u001b[0mcheck_array\u001b[0m\u001b[1;33m(\u001b[0m\u001b[0my\u001b[0m\u001b[1;33m,\u001b[0m \u001b[1;33m**\u001b[0m\u001b[0mcheck_y_params\u001b[0m\u001b[1;33m)\u001b[0m\u001b[1;33m\u001b[0m\u001b[1;33m\u001b[0m\u001b[0m\n\u001b[0;32m    580\u001b[0m             \u001b[1;32melse\u001b[0m\u001b[1;33m:\u001b[0m\u001b[1;33m\u001b[0m\u001b[1;33m\u001b[0m\u001b[0m\n\u001b[1;32m--> 581\u001b[1;33m                 \u001b[0mX\u001b[0m\u001b[1;33m,\u001b[0m \u001b[0my\u001b[0m \u001b[1;33m=\u001b[0m \u001b[0mcheck_X_y\u001b[0m\u001b[1;33m(\u001b[0m\u001b[0mX\u001b[0m\u001b[1;33m,\u001b[0m \u001b[0my\u001b[0m\u001b[1;33m,\u001b[0m \u001b[1;33m**\u001b[0m\u001b[0mcheck_params\u001b[0m\u001b[1;33m)\u001b[0m\u001b[1;33m\u001b[0m\u001b[1;33m\u001b[0m\u001b[0m\n\u001b[0m\u001b[0;32m    582\u001b[0m             \u001b[0mout\u001b[0m \u001b[1;33m=\u001b[0m \u001b[0mX\u001b[0m\u001b[1;33m,\u001b[0m \u001b[0my\u001b[0m\u001b[1;33m\u001b[0m\u001b[1;33m\u001b[0m\u001b[0m\n\u001b[0;32m    583\u001b[0m \u001b[1;33m\u001b[0m\u001b[0m\n",
      "\u001b[1;32m~\\anaconda3\\lib\\site-packages\\sklearn\\utils\\validation.py\u001b[0m in \u001b[0;36mcheck_X_y\u001b[1;34m(X, y, accept_sparse, accept_large_sparse, dtype, order, copy, force_all_finite, ensure_2d, allow_nd, multi_output, ensure_min_samples, ensure_min_features, y_numeric, estimator)\u001b[0m\n\u001b[0;32m    962\u001b[0m         \u001b[1;32mraise\u001b[0m \u001b[0mValueError\u001b[0m\u001b[1;33m(\u001b[0m\u001b[1;34m\"y cannot be None\"\u001b[0m\u001b[1;33m)\u001b[0m\u001b[1;33m\u001b[0m\u001b[1;33m\u001b[0m\u001b[0m\n\u001b[0;32m    963\u001b[0m \u001b[1;33m\u001b[0m\u001b[0m\n\u001b[1;32m--> 964\u001b[1;33m     X = check_array(\n\u001b[0m\u001b[0;32m    965\u001b[0m         \u001b[0mX\u001b[0m\u001b[1;33m,\u001b[0m\u001b[1;33m\u001b[0m\u001b[1;33m\u001b[0m\u001b[0m\n\u001b[0;32m    966\u001b[0m         \u001b[0maccept_sparse\u001b[0m\u001b[1;33m=\u001b[0m\u001b[0maccept_sparse\u001b[0m\u001b[1;33m,\u001b[0m\u001b[1;33m\u001b[0m\u001b[1;33m\u001b[0m\u001b[0m\n",
      "\u001b[1;32m~\\anaconda3\\lib\\site-packages\\sklearn\\utils\\validation.py\u001b[0m in \u001b[0;36mcheck_array\u001b[1;34m(array, accept_sparse, accept_large_sparse, dtype, order, copy, force_all_finite, ensure_2d, allow_nd, ensure_min_samples, ensure_min_features, estimator)\u001b[0m\n\u001b[0;32m    798\u001b[0m \u001b[1;33m\u001b[0m\u001b[0m\n\u001b[0;32m    799\u001b[0m         \u001b[1;32mif\u001b[0m \u001b[0mforce_all_finite\u001b[0m\u001b[1;33m:\u001b[0m\u001b[1;33m\u001b[0m\u001b[1;33m\u001b[0m\u001b[0m\n\u001b[1;32m--> 800\u001b[1;33m             \u001b[0m_assert_all_finite\u001b[0m\u001b[1;33m(\u001b[0m\u001b[0marray\u001b[0m\u001b[1;33m,\u001b[0m \u001b[0mallow_nan\u001b[0m\u001b[1;33m=\u001b[0m\u001b[0mforce_all_finite\u001b[0m \u001b[1;33m==\u001b[0m \u001b[1;34m\"allow-nan\"\u001b[0m\u001b[1;33m)\u001b[0m\u001b[1;33m\u001b[0m\u001b[1;33m\u001b[0m\u001b[0m\n\u001b[0m\u001b[0;32m    801\u001b[0m \u001b[1;33m\u001b[0m\u001b[0m\n\u001b[0;32m    802\u001b[0m     \u001b[1;32mif\u001b[0m \u001b[0mensure_min_samples\u001b[0m \u001b[1;33m>\u001b[0m \u001b[1;36m0\u001b[0m\u001b[1;33m:\u001b[0m\u001b[1;33m\u001b[0m\u001b[1;33m\u001b[0m\u001b[0m\n",
      "\u001b[1;32m~\\anaconda3\\lib\\site-packages\\sklearn\\utils\\validation.py\u001b[0m in \u001b[0;36m_assert_all_finite\u001b[1;34m(X, allow_nan, msg_dtype)\u001b[0m\n\u001b[0;32m    112\u001b[0m         ):\n\u001b[0;32m    113\u001b[0m             \u001b[0mtype_err\u001b[0m \u001b[1;33m=\u001b[0m \u001b[1;34m\"infinity\"\u001b[0m \u001b[1;32mif\u001b[0m \u001b[0mallow_nan\u001b[0m \u001b[1;32melse\u001b[0m \u001b[1;34m\"NaN, infinity\"\u001b[0m\u001b[1;33m\u001b[0m\u001b[1;33m\u001b[0m\u001b[0m\n\u001b[1;32m--> 114\u001b[1;33m             raise ValueError(\n\u001b[0m\u001b[0;32m    115\u001b[0m                 msg_err.format(\n\u001b[0;32m    116\u001b[0m                     \u001b[0mtype_err\u001b[0m\u001b[1;33m,\u001b[0m \u001b[0mmsg_dtype\u001b[0m \u001b[1;32mif\u001b[0m \u001b[0mmsg_dtype\u001b[0m \u001b[1;32mis\u001b[0m \u001b[1;32mnot\u001b[0m \u001b[1;32mNone\u001b[0m \u001b[1;32melse\u001b[0m \u001b[0mX\u001b[0m\u001b[1;33m.\u001b[0m\u001b[0mdtype\u001b[0m\u001b[1;33m\u001b[0m\u001b[1;33m\u001b[0m\u001b[0m\n",
      "\u001b[1;31mValueError\u001b[0m: Input contains NaN, infinity or a value too large for dtype('float64')."
     ]
    }
   ],
   "source": [
    "X_train, X_test, y_train, y_test = train_test_split( x, y, test_size=0.1, random_state=9)\n",
    "knr = KNeighborsRegressor(n_neighbors = 6, weights = 'distance', algorithm = 'ball_tree')\n",
    "knr.fit(X_train, y_train)\n",
    "model = knr#Nos quedamos con el mejor modelo"
   ]
  },
  {
   "cell_type": "code",
   "execution_count": 4,
   "id": "acab783c",
   "metadata": {},
   "outputs": [
    {
     "name": "stdout",
     "output_type": "stream",
     "text": [
      "ABR Model| R2 sq on train set: 1.0000\n",
      "ABR Model| R2 sq on test set: 0.5040\n",
      "ABR Model| MSE on test set: 0.4183\n",
      "ABR Model| MAE on test set: 0.5024\n"
     ]
    }
   ],
   "source": [
    "#Este entrenamiento muestra el rendimiento, para un entrenamiento, en donde no se considera el rasgo de formation_energy_per_atom\n",
    "#Ademas de que se quita la normalizacion, entonces se quedan los valores reales\n",
    "#Este es el resultado cuando se normalizan los datos\n",
    "abr_score = model.score(X_train,y_train) #Se evalua que tan bien entredo \n",
    "abr_score1 = model.score(X_test,y_test) #Que tan bueno es en el conjunto de test\n",
    "y_predicted = model.predict(X_test) #Hacemos la inferencia con el conjunto test\n",
    "yp = y_predicted# * sb + mb\n",
    "yt = y_test #* sb + mb\n",
    "print('ABR Model| R2 sq on train set: %.4f'% abr_score)  #Mostramos las metricas que se obtuvieron.\n",
    "print('ABR Model| R2 sq on test set: %.4f'% abr_score1)\n",
    "print('ABR Model| MSE on test set: %.4f'% mean_squared_error(yt, yp))\n",
    "print('ABR Model| MAE on test set: %.4f'% mean_absolute_error(yt, yp))"
   ]
  },
  {
   "cell_type": "code",
   "execution_count": 5,
   "id": "d44891f1",
   "metadata": {},
   "outputs": [
    {
     "data": {
      "image/png": "[encoded data removed]",
      "text/plain": [
       "<Figure size 432x288 with 1 Axes>"
      ]
     },
     "metadata": {
      "needs_background": "light"
     },
     "output_type": "display_data"
    }
   ],
   "source": [
    "#Aqui podemos ver la diferencia entre el valor desnormalizado de la prediccion y el test y\n",
    "dif = yp-yt\n",
    "plt.hist(x=dif, bins=25, color='#F2AB6D', rwidth=0.85, density = True)\n",
    "plt.title('Histograma de Diferencia entre el valor real y predicho')\n",
    "plt.xlabel('Diferencia')\n",
    "plt.ylabel('Frecuencia')\n",
    "plt.xticks(range(-3,4))\n",
    "plt.show()"
   ]
  },
  {
   "cell_type": "code",
   "execution_count": 6,
   "id": "84e54d1f",
   "metadata": {},
   "outputs": [
    {
     "data": {
      "image/png": "[encoded data removed]",
      "text/plain": [
       "<Figure size 432x288 with 1 Axes>"
      ]
     },
     "metadata": {
      "needs_background": "light"
     },
     "output_type": "display_data"
    }
   ],
   "source": [
    "plt.plot(yt,yp,'o')\n",
    "plt.plot(y_test,y_test,'o')\n",
    "plt.grid()"
   ]
  },
  {
   "cell_type": "code",
   "execution_count": 7,
   "id": "c0ec7e6d",
   "metadata": {},
   "outputs": [],
   "source": [
    "N = 700\n",
    "X_train1, X_test1, y_train1, y_test1 = x[:N], x[N:2*N], y[:N], y[N:2*N]\n",
    "X, Y = x[2*N:], y[2*N:]"
   ]
  },
  {
   "cell_type": "code",
   "execution_count": 8,
   "id": "92126d5b",
   "metadata": {},
   "outputs": [],
   "source": [
    "knr1 = KNeighborsRegressor(n_neighbors = 6, weights = 'distance', algorithm = 'ball_tree')\n",
    "knr1.fit(X_train1, y_train1)\n",
    "model1 = knr1#Nos quedamos con el mejor modelo"
   ]
  },
  {
   "cell_type": "code",
   "execution_count": 9,
   "id": "b124c1c6",
   "metadata": {},
   "outputs": [
    {
     "name": "stdout",
     "output_type": "stream",
     "text": [
      "GBR Model| R2 sq on train set: 1.0000\n",
      "GBR Model| R2 sq on test set: 0.1940\n",
      "GBR Model| MSE on test set: 0.8074\n",
      "GBR Model| MAE on test set: 0.6973\n"
     ]
    }
   ],
   "source": [
    "GBR_score1 = model1.score(X_train1,y_train1) #Aqui obtenemos el valor de R^2 en el conjunto del train\n",
    "GBR_score11 = model1.score(X_test1,y_test1) #Aqui es el R^2 en el conjunto de test\n",
    "y_predicted1 = model1.predict(X_test1) #Aqui se hace la prediccion que valor debe de tener el conjunto de X_test\n",
    "print('GBR Model| R2 sq on train set: %.4f'% GBR_score1) #Lo que hacemos es implimir el valor\n",
    "print('GBR Model| R2 sq on test set: %.4f'% GBR_score11) #Lo que hacemos es implimir el valor\n",
    "print(\"GBR Model| MSE on test set: %.4f\"% mean_squared_error(y_test1, y_predicted1))#Lo que hacemos es ver cual fue el error\n",
    "#de la prediccion con el valor real, utilizando MSE\n",
    "print(\"GBR Model| MAE on test set: %.4f\"% mean_absolute_error(y_test1, y_predicted1))#Lo que hacemos es ver cual fue el error\n",
    "#de la prediccion con el valor real, utilizando MAE"
   ]
  },
  {
   "cell_type": "code",
   "execution_count": 10,
   "id": "0f9c78d7",
   "metadata": {},
   "outputs": [
    {
     "data": {
      "image/png": "[encoded data removed]",
      "text/plain": [
       "<Figure size 432x288 with 1 Axes>"
      ]
     },
     "metadata": {
      "needs_background": "light"
     },
     "output_type": "display_data"
    }
   ],
   "source": [
    "dif1 = y_predicted1-y_test1\n",
    "plt.hist(x=dif1, bins=40, color='#F2AB6D', rwidth=0.85)\n",
    "plt.title('Histograma de Diferencia entre el valor real y predicho')\n",
    "plt.xlabel('Diferencia')\n",
    "plt.ylabel('Frecuencia')\n",
    "plt.xticks(range(-3,4))\n",
    "plt.show()"
   ]
  },
  {
   "cell_type": "code",
   "execution_count": 11,
   "id": "c2eb0cf8",
   "metadata": {},
   "outputs": [
    {
     "data": {
      "text/html": [
       "<div>\n",
       "<style scoped>\n",
       "    .dataframe tbody tr th:only-of-type {\n",
       "        vertical-align: middle;\n",
       "    }\n",
       "\n",
       "    .dataframe tbody tr th {\n",
       "        vertical-align: top;\n",
       "    }\n",
       "\n",
       "    .dataframe thead th {\n",
       "        text-align: right;\n",
       "    }\n",
       "</style>\n",
       "<table border=\"1\" class=\"dataframe\">\n",
       "  <thead>\n",
       "    <tr style=\"text-align: right;\">\n",
       "      <th></th>\n",
       "      <th>Gradient Boosting</th>\n",
       "    </tr>\n",
       "  </thead>\n",
       "  <tbody>\n",
       "    <tr>\n",
       "      <th>0</th>\n",
       "      <td>-0.454657</td>\n",
       "    </tr>\n",
       "    <tr>\n",
       "      <th>1</th>\n",
       "      <td>-0.395837</td>\n",
       "    </tr>\n",
       "    <tr>\n",
       "      <th>2</th>\n",
       "      <td>-0.982711</td>\n",
       "    </tr>\n",
       "    <tr>\n",
       "      <th>3</th>\n",
       "      <td>-0.603826</td>\n",
       "    </tr>\n",
       "    <tr>\n",
       "      <th>4</th>\n",
       "      <td>0.097195</td>\n",
       "    </tr>\n",
       "    <tr>\n",
       "      <th>...</th>\n",
       "      <td>...</td>\n",
       "    </tr>\n",
       "    <tr>\n",
       "      <th>695</th>\n",
       "      <td>-0.196494</td>\n",
       "    </tr>\n",
       "    <tr>\n",
       "      <th>696</th>\n",
       "      <td>-0.318785</td>\n",
       "    </tr>\n",
       "    <tr>\n",
       "      <th>697</th>\n",
       "      <td>0.561431</td>\n",
       "    </tr>\n",
       "    <tr>\n",
       "      <th>698</th>\n",
       "      <td>-0.538690</td>\n",
       "    </tr>\n",
       "    <tr>\n",
       "      <th>699</th>\n",
       "      <td>-0.488461</td>\n",
       "    </tr>\n",
       "  </tbody>\n",
       "</table>\n",
       "<p>700 rows × 1 columns</p>\n",
       "</div>"
      ],
      "text/plain": [
       "     Gradient Boosting\n",
       "0            -0.454657\n",
       "1            -0.395837\n",
       "2            -0.982711\n",
       "3            -0.603826\n",
       "4             0.097195\n",
       "..                 ...\n",
       "695          -0.196494\n",
       "696          -0.318785\n",
       "697           0.561431\n",
       "698          -0.538690\n",
       "699          -0.488461\n",
       "\n",
       "[700 rows x 1 columns]"
      ]
     },
     "execution_count": 11,
     "metadata": {},
     "output_type": "execute_result"
    }
   ],
   "source": [
    "pred1 = pd.DataFrame(y_predicted1, columns = ['Gradient Boosting'])\n",
    "pred1"
   ]
  },
  {
   "cell_type": "code",
   "execution_count": 12,
   "id": "58f7d6c6",
   "metadata": {},
   "outputs": [
    {
     "data": {
      "text/html": [
       "<div>\n",
       "<style scoped>\n",
       "    .dataframe tbody tr th:only-of-type {\n",
       "        vertical-align: middle;\n",
       "    }\n",
       "\n",
       "    .dataframe tbody tr th {\n",
       "        vertical-align: top;\n",
       "    }\n",
       "\n",
       "    .dataframe thead th {\n",
       "        text-align: right;\n",
       "    }\n",
       "</style>\n",
       "<table border=\"1\" class=\"dataframe\">\n",
       "  <thead>\n",
       "    <tr style=\"text-align: right;\">\n",
       "      <th></th>\n",
       "      <th>z_mean</th>\n",
       "      <th>z_std</th>\n",
       "      <th>grp_mean</th>\n",
       "      <th>grp_std</th>\n",
       "      <th>row_mean</th>\n",
       "      <th>row_std</th>\n",
       "      <th>x_mean</th>\n",
       "      <th>x_std</th>\n",
       "      <th>av_ionrad_mean</th>\n",
       "      <th>av_ionrad_std</th>\n",
       "      <th>...</th>\n",
       "      <th>rsp_mean</th>\n",
       "      <th>rsp_std</th>\n",
       "      <th>av_rsp_mean</th>\n",
       "      <th>av_rsp_std</th>\n",
       "      <th>gtf</th>\n",
       "      <th>of</th>\n",
       "      <th>rho</th>\n",
       "      <th>Ehull</th>\n",
       "      <th>Ef</th>\n",
       "      <th>Gradient Boosting</th>\n",
       "    </tr>\n",
       "  </thead>\n",
       "  <tbody>\n",
       "    <tr>\n",
       "      <th>0</th>\n",
       "      <td>-0.084592</td>\n",
       "      <td>0.194227</td>\n",
       "      <td>-1.240990</td>\n",
       "      <td>0.696574</td>\n",
       "      <td>-0.165358</td>\n",
       "      <td>0.199214</td>\n",
       "      <td>-0.324355</td>\n",
       "      <td>0.694930</td>\n",
       "      <td>0.949605</td>\n",
       "      <td>-0.240215</td>\n",
       "      <td>...</td>\n",
       "      <td>0.229196</td>\n",
       "      <td>0.754536</td>\n",
       "      <td>0.228689</td>\n",
       "      <td>0.755520</td>\n",
       "      <td>0.360658</td>\n",
       "      <td>-0.446695</td>\n",
       "      <td>0.197805</td>\n",
       "      <td>-0.297881</td>\n",
       "      <td>-1.408230</td>\n",
       "      <td>-0.454657</td>\n",
       "    </tr>\n",
       "    <tr>\n",
       "      <th>1</th>\n",
       "      <td>-0.983764</td>\n",
       "      <td>-0.871292</td>\n",
       "      <td>-1.240990</td>\n",
       "      <td>0.696574</td>\n",
       "      <td>-0.820031</td>\n",
       "      <td>-0.561086</td>\n",
       "      <td>-0.236076</td>\n",
       "      <td>0.567507</td>\n",
       "      <td>0.411628</td>\n",
       "      <td>-0.728828</td>\n",
       "      <td>...</td>\n",
       "      <td>-0.037802</td>\n",
       "      <td>0.364091</td>\n",
       "      <td>-0.038322</td>\n",
       "      <td>0.364794</td>\n",
       "      <td>-0.555170</td>\n",
       "      <td>-0.446695</td>\n",
       "      <td>-0.651168</td>\n",
       "      <td>-0.297881</td>\n",
       "      <td>-1.445167</td>\n",
       "      <td>-0.395837</td>\n",
       "    </tr>\n",
       "    <tr>\n",
       "      <th>2</th>\n",
       "      <td>0.090247</td>\n",
       "      <td>0.507871</td>\n",
       "      <td>-0.206052</td>\n",
       "      <td>-0.209948</td>\n",
       "      <td>0.489315</td>\n",
       "      <td>1.241925</td>\n",
       "      <td>-0.075569</td>\n",
       "      <td>0.345920</td>\n",
       "      <td>0.502316</td>\n",
       "      <td>-0.723003</td>\n",
       "      <td>...</td>\n",
       "      <td>-0.029832</td>\n",
       "      <td>0.375158</td>\n",
       "      <td>-0.030352</td>\n",
       "      <td>0.375869</td>\n",
       "      <td>-0.400788</td>\n",
       "      <td>-0.446695</td>\n",
       "      <td>0.712541</td>\n",
       "      <td>-0.297881</td>\n",
       "      <td>-1.420542</td>\n",
       "      <td>-0.982711</td>\n",
       "    </tr>\n",
       "    <tr>\n",
       "      <th>3</th>\n",
       "      <td>-0.534178</td>\n",
       "      <td>-0.499209</td>\n",
       "      <td>-1.240990</td>\n",
       "      <td>0.696574</td>\n",
       "      <td>-0.492694</td>\n",
       "      <td>-0.235803</td>\n",
       "      <td>-0.276203</td>\n",
       "      <td>0.624968</td>\n",
       "      <td>0.688302</td>\n",
       "      <td>-0.602717</td>\n",
       "      <td>...</td>\n",
       "      <td>0.101674</td>\n",
       "      <td>0.563204</td>\n",
       "      <td>0.101161</td>\n",
       "      <td>0.564050</td>\n",
       "      <td>-0.084173</td>\n",
       "      <td>-0.446695</td>\n",
       "      <td>-0.204191</td>\n",
       "      <td>-0.297881</td>\n",
       "      <td>-1.433974</td>\n",
       "      <td>-0.603826</td>\n",
       "    </tr>\n",
       "    <tr>\n",
       "      <th>4</th>\n",
       "      <td>-1.283488</td>\n",
       "      <td>-2.481012</td>\n",
       "      <td>1.420280</td>\n",
       "      <td>-2.722610</td>\n",
       "      <td>-0.820031</td>\n",
       "      <td>-2.570311</td>\n",
       "      <td>-2.298584</td>\n",
       "      <td>-3.137561</td>\n",
       "      <td>-4.068945</td>\n",
       "      <td>-1.778459</td>\n",
       "      <td>...</td>\n",
       "      <td>-0.306792</td>\n",
       "      <td>-3.291207</td>\n",
       "      <td>-0.307326</td>\n",
       "      <td>-3.293140</td>\n",
       "      <td>-0.600782</td>\n",
       "      <td>0.397484</td>\n",
       "      <td>-1.635658</td>\n",
       "      <td>-0.242043</td>\n",
       "      <td>2.333640</td>\n",
       "      <td>0.097195</td>\n",
       "    </tr>\n",
       "    <tr>\n",
       "      <th>...</th>\n",
       "      <td>...</td>\n",
       "      <td>...</td>\n",
       "      <td>...</td>\n",
       "      <td>...</td>\n",
       "      <td>...</td>\n",
       "      <td>...</td>\n",
       "      <td>...</td>\n",
       "      <td>...</td>\n",
       "      <td>...</td>\n",
       "      <td>...</td>\n",
       "      <td>...</td>\n",
       "      <td>...</td>\n",
       "      <td>...</td>\n",
       "      <td>...</td>\n",
       "      <td>...</td>\n",
       "      <td>...</td>\n",
       "      <td>...</td>\n",
       "      <td>...</td>\n",
       "      <td>...</td>\n",
       "      <td>...</td>\n",
       "      <td>...</td>\n",
       "    </tr>\n",
       "    <tr>\n",
       "      <th>695</th>\n",
       "      <td>-0.246942</td>\n",
       "      <td>0.036088</td>\n",
       "      <td>-0.871369</td>\n",
       "      <td>0.432449</td>\n",
       "      <td>-0.001690</td>\n",
       "      <td>0.626346</td>\n",
       "      <td>-0.232063</td>\n",
       "      <td>0.594562</td>\n",
       "      <td>0.941151</td>\n",
       "      <td>-0.905365</td>\n",
       "      <td>...</td>\n",
       "      <td>0.144846</td>\n",
       "      <td>0.617798</td>\n",
       "      <td>0.144335</td>\n",
       "      <td>0.618683</td>\n",
       "      <td>-0.570289</td>\n",
       "      <td>-0.078435</td>\n",
       "      <td>0.056594</td>\n",
       "      <td>-0.277939</td>\n",
       "      <td>-1.170935</td>\n",
       "      <td>-0.196494</td>\n",
       "    </tr>\n",
       "    <tr>\n",
       "      <th>696</th>\n",
       "      <td>-0.122057</td>\n",
       "      <td>0.195620</td>\n",
       "      <td>-0.132127</td>\n",
       "      <td>0.243372</td>\n",
       "      <td>-0.001690</td>\n",
       "      <td>0.626346</td>\n",
       "      <td>-0.051494</td>\n",
       "      <td>0.471376</td>\n",
       "      <td>0.948836</td>\n",
       "      <td>-0.935049</td>\n",
       "      <td>...</td>\n",
       "      <td>-0.185580</td>\n",
       "      <td>0.385917</td>\n",
       "      <td>-0.186108</td>\n",
       "      <td>0.386635</td>\n",
       "      <td>-0.583971</td>\n",
       "      <td>-0.067242</td>\n",
       "      <td>0.263285</td>\n",
       "      <td>-0.297881</td>\n",
       "      <td>-0.759027</td>\n",
       "      <td>-0.318785</td>\n",
       "    </tr>\n",
       "    <tr>\n",
       "      <th>697</th>\n",
       "      <td>0.152690</td>\n",
       "      <td>0.705264</td>\n",
       "      <td>-0.871369</td>\n",
       "      <td>0.432449</td>\n",
       "      <td>0.161979</td>\n",
       "      <td>0.776722</td>\n",
       "      <td>-0.272190</td>\n",
       "      <td>0.630618</td>\n",
       "      <td>0.941151</td>\n",
       "      <td>-0.905365</td>\n",
       "      <td>...</td>\n",
       "      <td>0.154808</td>\n",
       "      <td>0.628460</td>\n",
       "      <td>0.154298</td>\n",
       "      <td>0.629353</td>\n",
       "      <td>-0.570289</td>\n",
       "      <td>-0.078435</td>\n",
       "      <td>0.629408</td>\n",
       "      <td>-0.297881</td>\n",
       "      <td>-1.305253</td>\n",
       "      <td>0.561431</td>\n",
       "    </tr>\n",
       "    <tr>\n",
       "      <th>698</th>\n",
       "      <td>0.389971</td>\n",
       "      <td>1.265244</td>\n",
       "      <td>-0.797445</td>\n",
       "      <td>0.372093</td>\n",
       "      <td>0.652983</td>\n",
       "      <td>1.538173</td>\n",
       "      <td>-0.320342</td>\n",
       "      <td>0.677858</td>\n",
       "      <td>1.072571</td>\n",
       "      <td>-1.407346</td>\n",
       "      <td>...</td>\n",
       "      <td>0.023302</td>\n",
       "      <td>0.504343</td>\n",
       "      <td>0.022785</td>\n",
       "      <td>0.505146</td>\n",
       "      <td>-0.796300</td>\n",
       "      <td>0.112970</td>\n",
       "      <td>0.453464</td>\n",
       "      <td>0.268477</td>\n",
       "      <td>-1.252645</td>\n",
       "      <td>-0.538690</td>\n",
       "    </tr>\n",
       "    <tr>\n",
       "      <th>699</th>\n",
       "      <td>-0.284408</td>\n",
       "      <td>0.266857</td>\n",
       "      <td>-0.797445</td>\n",
       "      <td>0.403171</td>\n",
       "      <td>-0.492694</td>\n",
       "      <td>-0.130116</td>\n",
       "      <td>0.012709</td>\n",
       "      <td>0.352955</td>\n",
       "      <td>0.586855</td>\n",
       "      <td>-0.334924</td>\n",
       "      <td>...</td>\n",
       "      <td>-0.177278</td>\n",
       "      <td>0.320496</td>\n",
       "      <td>-0.177806</td>\n",
       "      <td>0.321167</td>\n",
       "      <td>0.132752</td>\n",
       "      <td>-0.594447</td>\n",
       "      <td>0.590120</td>\n",
       "      <td>-0.285916</td>\n",
       "      <td>-0.600085</td>\n",
       "      <td>-0.488461</td>\n",
       "    </tr>\n",
       "  </tbody>\n",
       "</table>\n",
       "<p>700 rows × 60 columns</p>\n",
       "</div>"
      ],
      "text/plain": [
       "       z_mean     z_std  grp_mean   grp_std  row_mean   row_std    x_mean  \\\n",
       "0   -0.084592  0.194227 -1.240990  0.696574 -0.165358  0.199214 -0.324355   \n",
       "1   -0.983764 -0.871292 -1.240990  0.696574 -0.820031 -0.561086 -0.236076   \n",
       "2    0.090247  0.507871 -0.206052 -0.209948  0.489315  1.241925 -0.075569   \n",
       "3   -0.534178 -0.499209 -1.240990  0.696574 -0.492694 -0.235803 -0.276203   \n",
       "4   -1.283488 -2.481012  1.420280 -2.722610 -0.820031 -2.570311 -2.298584   \n",
       "..        ...       ...       ...       ...       ...       ...       ...   \n",
       "695 -0.246942  0.036088 -0.871369  0.432449 -0.001690  0.626346 -0.232063   \n",
       "696 -0.122057  0.195620 -0.132127  0.243372 -0.001690  0.626346 -0.051494   \n",
       "697  0.152690  0.705264 -0.871369  0.432449  0.161979  0.776722 -0.272190   \n",
       "698  0.389971  1.265244 -0.797445  0.372093  0.652983  1.538173 -0.320342   \n",
       "699 -0.284408  0.266857 -0.797445  0.403171 -0.492694 -0.130116  0.012709   \n",
       "\n",
       "        x_std  av_ionrad_mean  av_ionrad_std  ...  rsp_mean   rsp_std  \\\n",
       "0    0.694930        0.949605      -0.240215  ...  0.229196  0.754536   \n",
       "1    0.567507        0.411628      -0.728828  ... -0.037802  0.364091   \n",
       "2    0.345920        0.502316      -0.723003  ... -0.029832  0.375158   \n",
       "3    0.624968        0.688302      -0.602717  ...  0.101674  0.563204   \n",
       "4   -3.137561       -4.068945      -1.778459  ... -0.306792 -3.291207   \n",
       "..        ...             ...            ...  ...       ...       ...   \n",
       "695  0.594562        0.941151      -0.905365  ...  0.144846  0.617798   \n",
       "696  0.471376        0.948836      -0.935049  ... -0.185580  0.385917   \n",
       "697  0.630618        0.941151      -0.905365  ...  0.154808  0.628460   \n",
       "698  0.677858        1.072571      -1.407346  ...  0.023302  0.504343   \n",
       "699  0.352955        0.586855      -0.334924  ... -0.177278  0.320496   \n",
       "\n",
       "     av_rsp_mean  av_rsp_std       gtf        of       rho     Ehull  \\\n",
       "0       0.228689    0.755520  0.360658 -0.446695  0.197805 -0.297881   \n",
       "1      -0.038322    0.364794 -0.555170 -0.446695 -0.651168 -0.297881   \n",
       "2      -0.030352    0.375869 -0.400788 -0.446695  0.712541 -0.297881   \n",
       "3       0.101161    0.564050 -0.084173 -0.446695 -0.204191 -0.297881   \n",
       "4      -0.307326   -3.293140 -0.600782  0.397484 -1.635658 -0.242043   \n",
       "..           ...         ...       ...       ...       ...       ...   \n",
       "695     0.144335    0.618683 -0.570289 -0.078435  0.056594 -0.277939   \n",
       "696    -0.186108    0.386635 -0.583971 -0.067242  0.263285 -0.297881   \n",
       "697     0.154298    0.629353 -0.570289 -0.078435  0.629408 -0.297881   \n",
       "698     0.022785    0.505146 -0.796300  0.112970  0.453464  0.268477   \n",
       "699    -0.177806    0.321167  0.132752 -0.594447  0.590120 -0.285916   \n",
       "\n",
       "           Ef  Gradient Boosting  \n",
       "0   -1.408230          -0.454657  \n",
       "1   -1.445167          -0.395837  \n",
       "2   -1.420542          -0.982711  \n",
       "3   -1.433974          -0.603826  \n",
       "4    2.333640           0.097195  \n",
       "..        ...                ...  \n",
       "695 -1.170935          -0.196494  \n",
       "696 -0.759027          -0.318785  \n",
       "697 -1.305253           0.561431  \n",
       "698 -1.252645          -0.538690  \n",
       "699 -0.600085          -0.488461  \n",
       "\n",
       "[700 rows x 60 columns]"
      ]
     },
     "execution_count": 12,
     "metadata": {},
     "output_type": "execute_result"
    }
   ],
   "source": [
    "X_test1.index = range(len(X_test1))#Esta parte se usa si es que no se corre todo el notebook\n",
    "Datos = pd.concat([X_test1, pred1], axis = 1)\n",
    "#Datos = Datos.drop('formation_energy_per_atom', axis = 1)#Esta linea se puede quitar si se quiere hacer el entrenamiento\n",
    "Datos                                                    #con el rasgo de 'formation_energy_per_atom'"
   ]
  },
  {
   "cell_type": "code",
   "execution_count": 13,
   "id": "414e99a1",
   "metadata": {},
   "outputs": [
    {
     "name": "stdout",
     "output_type": "stream",
     "text": [
      "Fitting 2 folds for each of 1 candidates, totalling 2 fits\n"
     ]
    }
   ],
   "source": [
    "X_train2, X_test2, y_train2, y_test2 = train_test_split( Datos, y_test1, test_size=0.1, random_state=9)\n",
    "steps = [('scaler', StandardScaler()), ('SVM', SVR())]\n",
    "pipeline = Pipeline(steps) \n",
    "grid2 = GridSearchCV(pipeline, param_grid= {'SVM__C':[100], 'SVM__gamma':['auto'], 'SVM__kernel': ['rbf'],\n",
    "                                           'SVM__epsilon':[0.001]}, cv=2, verbose = 3, n_jobs=-1)\n",
    "grid2.fit(X_train2, y_train2)\n",
    "model2 = grid2.best_estimator_ #Nos quedamos con el mejor modelo"
   ]
  },
  {
   "cell_type": "code",
   "execution_count": 14,
   "id": "ebb23576",
   "metadata": {},
   "outputs": [
    {
     "name": "stdout",
     "output_type": "stream",
     "text": [
      "ABR Model| R2 sq on train set: 0.9669\n",
      "ABR Model| R2 sq on test set: 0.6191\n",
      "ABR Model| MSE on test set: 0.2113\n",
      "ABR Model| MAE on test set: 0.2932\n"
     ]
    }
   ],
   "source": [
    "#Este entrenamiento muestra el rendimiento, para un entrenamiento, en donde no se considera el rasgo de formation_energy_per_atom\n",
    "#Ademas de que se quita la normalizacion, entonces se quedan los valores reales\n",
    "#Este es el resultado cuando se normalizan los datos\n",
    "abr_score2 = model2.score(X_train2,y_train2) #Se evalua que tan bien entredo \n",
    "abr_score12 = model2.score(X_test2,y_test2) #Que tan bueno es en el conjunto de test\n",
    "y_predicted2 = model2.predict(X_test2) #Hacemos la inferencia con el conjunto test\n",
    "yp2 = y_predicted2# * sb + mb\n",
    "yt2 = y_test2 #* sb + mb\n",
    "print('ABR Model| R2 sq on train set: %.4f'% abr_score2)  #Mostramos las metricas que se obtuvieron.\n",
    "print('ABR Model| R2 sq on test set: %.4f'% abr_score12)\n",
    "print('ABR Model| MSE on test set: %.4f'% mean_squared_error(yt2, yp2))\n",
    "print('ABR Model| MAE on test set: %.4f'% mean_absolute_error(yt2, yp2))"
   ]
  },
  {
   "cell_type": "code",
   "execution_count": 15,
   "id": "a87cccaa",
   "metadata": {},
   "outputs": [
    {
     "name": "stdout",
     "output_type": "stream",
     "text": [
      "ABR Model| R2 sq on train set: 0.9669\n",
      "ABR Model| R2 sq on test set: 0.6191\n",
      "ABR Model| MSE on test set: 0.2113\n",
      "ABR Model| MAE on test set: 0.2932\n"
     ]
    }
   ],
   "source": [
    "#Este entrenamiento muestra el rendimiento, para un entrenamiento, en donde no se considera el rasgo de formation_energy_per_atom\n",
    "#Ademas de que se quita la normalizacion, entonces se quedan los valores reales\n",
    "#Este es el resultado cuando se normalizan los datos\n",
    "abr_score2 = model2.score(X_train2,y_train2) #Se evalua que tan bien entredo \n",
    "abr_score12 = model2.score(X_test2,y_test2) #Que tan bueno es en el conjunto de test\n",
    "y_predicted2 = model2.predict(X_test2) #Hacemos la inferencia con el conjunto test\n",
    "yp2 = y_predicted2# * sb + mb\n",
    "yt2 = y_test2 #* sb + mb\n",
    "print('ABR Model| R2 sq on train set: %.4f'% abr_score2)  #Mostramos las metricas que se obtuvieron.\n",
    "print('ABR Model| R2 sq on test set: %.4f'% abr_score12)\n",
    "print('ABR Model| MSE on test set: %.4f'% mean_squared_error(yt2, yp2))\n",
    "print('ABR Model| MAE on test set: %.4f'% mean_absolute_error(yt2, yp2))"
   ]
  },
  {
   "cell_type": "code",
   "execution_count": 16,
   "id": "1614e1e6",
   "metadata": {},
   "outputs": [
    {
     "data": {
      "image/png": "[encoded data removed]",
      "text/plain": [
       "<Figure size 432x288 with 1 Axes>"
      ]
     },
     "metadata": {
      "needs_background": "light"
     },
     "output_type": "display_data"
    }
   ],
   "source": [
    "#Aqui podemos ver la diferencia entre el valor desnormalizado de la prediccion y el test y\n",
    "dif2 = yp2-yt2\n",
    "plt.hist(x=dif2, bins=25, color='#F2AB6D', rwidth=0.85, density = True)\n",
    "plt.title('Histograma de Diferencia entre el valor real y predicho')\n",
    "plt.xlabel('Diferencia')\n",
    "plt.ylabel('Frecuencia')\n",
    "plt.xticks(range(-3,4))\n",
    "plt.show()"
   ]
  },
  {
   "cell_type": "code",
   "execution_count": 17,
   "id": "737b57f8",
   "metadata": {},
   "outputs": [
    {
     "data": {
      "image/png": "[encoded data removed]",
      "text/plain": [
       "<Figure size 432x288 with 1 Axes>"
      ]
     },
     "metadata": {
      "needs_background": "light"
     },
     "output_type": "display_data"
    }
   ],
   "source": [
    "plt.plot(yt2,yp2,'o')\n",
    "plt.plot(y_test2,y_test2,'o')\n",
    "plt.grid()"
   ]
  },
  {
   "cell_type": "markdown",
   "id": "c22321d5",
   "metadata": {},
   "source": [
    "En las celdas sigueintes vamos hacer el entrenamiento del metodo supoort vector regression para el caso en donde no se toma en cuenta la prediccion de gradient boosting"
   ]
  },
  {
   "cell_type": "code",
   "execution_count": 18,
   "id": "5656b641",
   "metadata": {},
   "outputs": [
    {
     "name": "stdout",
     "output_type": "stream",
     "text": [
      "Fitting 2 folds for each of 1 candidates, totalling 2 fits\n"
     ]
    }
   ],
   "source": [
    "X_train3, X_test3, y_train3, y_test3 = train_test_split( X_test1, y_test1, test_size=0.1, random_state=9)\n",
    "steps = [('scaler', StandardScaler()), ('SVM', SVR())]\n",
    "pipeline = Pipeline(steps) \n",
    "grid3 = GridSearchCV(pipeline, param_grid= {'SVM__C':[100], 'SVM__gamma':['auto'], 'SVM__kernel': ['rbf'],\n",
    "                                           'SVM__epsilon':[0.001]}, cv=2, verbose = 3, n_jobs=-1)\n",
    "grid3.fit(X_train3, y_train3)\n",
    "model3 = grid3.best_estimator_ #Nos quedamos con el mejor modelo"
   ]
  },
  {
   "cell_type": "code",
   "execution_count": 19,
   "id": "2a1b08c4",
   "metadata": {},
   "outputs": [
    {
     "name": "stdout",
     "output_type": "stream",
     "text": [
      "ABR Model| R2 sq on train set: 0.9645\n",
      "ABR Model| R2 sq on test set: 0.6263\n",
      "ABR Model| MSE on test set: 0.2073\n",
      "ABR Model| MAE on test set: 0.2837\n"
     ]
    }
   ],
   "source": [
    "#Este entrenamiento muestra el rendimiento, para un entrenamiento, en donde no se considera el rasgo de formation_energy_per_atom\n",
    "#Ademas de que se quita la normalizacion, entonces se quedan los valores reales\n",
    "#Este es el resultado cuando se normalizan los datos\n",
    "abr_score3 = model3.score(X_train3,y_train3) #Se evalua que tan bien entredo \n",
    "abr_score13 = model3.score(X_test3,y_test3) #Que tan bueno es en el conjunto de test\n",
    "y_predicted3 = model3.predict(X_test3) #Hacemos la inferencia con el conjunto test\n",
    "yp3 = y_predicted3# * sb + mb\n",
    "yt3 = y_test3 #* sb + mb\n",
    "print('ABR Model| R2 sq on train set: %.4f'% abr_score3)  #Mostramos las metricas que se obtuvieron.\n",
    "print('ABR Model| R2 sq on test set: %.4f'% abr_score13)\n",
    "print('ABR Model| MSE on test set: %.4f'% mean_squared_error(yt3, yp3))\n",
    "print('ABR Model| MAE on test set: %.4f'% mean_absolute_error(yt3, yp3))"
   ]
  },
  {
   "cell_type": "code",
   "execution_count": 20,
   "id": "24008a9f",
   "metadata": {},
   "outputs": [
    {
     "data": {
      "image/png": "[encoded data removed]",
      "text/plain": [
       "<Figure size 432x288 with 1 Axes>"
      ]
     },
     "metadata": {
      "needs_background": "light"
     },
     "output_type": "display_data"
    }
   ],
   "source": [
    "#Aqui podemos ver la diferencia entre el valor desnormalizado de la prediccion y el test y\n",
    "dif3 = yp3-yt3\n",
    "plt.hist(x=dif3, bins=25, color='#F2AB6D', rwidth=0.85, density = True)\n",
    "plt.title('Histograma de Diferencia entre el valor real y predicho')\n",
    "plt.xlabel('Diferencia')\n",
    "plt.ylabel('Frecuencia')\n",
    "plt.xticks(range(-3,4))\n",
    "plt.show()"
   ]
  },
  {
   "cell_type": "code",
   "execution_count": 21,
   "id": "1b644e29",
   "metadata": {},
   "outputs": [
    {
     "data": {
      "image/png": "[encoded data removed]",
      "text/plain": [
       "<Figure size 432x288 with 1 Axes>"
      ]
     },
     "metadata": {
      "needs_background": "light"
     },
     "output_type": "display_data"
    }
   ],
   "source": [
    "plt.plot(yt3,yp3,'o')\n",
    "plt.plot(y_test3,y_test3,'o')\n",
    "plt.grid()"
   ]
  },
  {
   "cell_type": "code",
   "execution_count": 22,
   "id": "9d98441b",
   "metadata": {},
   "outputs": [],
   "source": [
    "def res(x,y):\n",
    "    pre = model.predict(x)\n",
    "    score = model.score(x,y)\n",
    "    print('Resultados del modelo entrenado con todos los datos')\n",
    "    print('ABR Model| R2 sq on test set: %.4f'% score)\n",
    "    print('ABR Model| MSE on test set: %.4f'% mean_squared_error(y, pre))\n",
    "    print('ABR Model| MAE on test set: %.4f'% mean_absolute_error(y, pre))\n",
    "    print('\\n')\n",
    "    pred = model1.predict(x)\n",
    "    pred1 = pd.DataFrame(pred, columns = ['Gradient Boosting'])\n",
    "    x.index = range(len(x))#Esta parte se usa si es que no se corre todo el notebook\n",
    "    Datos = pd.concat([x, pred1], axis = 1)\n",
    "    yp = model2.predict(Datos)\n",
    "    score1 = model2.score(Datos,y)\n",
    "    print('Resultados del modelo combinado')\n",
    "    print('ABR Model| R2 sq on test set: %.4f'% score1)\n",
    "    print('ABR Model| MSE on test set: %.4f'% mean_squared_error(y, yp))\n",
    "    print('ABR Model| MAE on test set: %.4f'% mean_absolute_error(y, yp))\n",
    "    print('\\n')\n",
    "    yp2 = model3.predict(x)\n",
    "    score2 = model3.score(x,y)\n",
    "    print('Resultados del modelo entrenado solo con la segunda mitad')\n",
    "    print('ABR Model| R2 sq on test set: %.4f'% score2)\n",
    "    print('ABR Model| MSE on test set: %.4f'% mean_squared_error(y, yp2))\n",
    "    print('ABR Model| MAE on test set: %.4f'% mean_absolute_error(y, yp2))\n",
    "    plt.plot(y,pre,'o', label = 'Todo')\n",
    "    plt.plot(y,yp2,'o', label = 'Mitad')\n",
    "    plt.plot(y,yp,'o', label ='Combinado')\n",
    "    plt.plot(y,y,'o',label = 'real')\n",
    "    plt.grid()\n",
    "    plt.legend()"
   ]
  },
  {
   "cell_type": "code",
   "execution_count": 23,
   "id": "673a93bf",
   "metadata": {},
   "outputs": [
    {
     "name": "stdout",
     "output_type": "stream",
     "text": [
      "Resultados del modelo entrenado con todos los datos\n",
      "ABR Model| R2 sq on test set: 0.8619\n",
      "ABR Model| MSE on test set: 0.0816\n",
      "ABR Model| MAE on test set: 0.0826\n",
      "\n",
      "\n",
      "Resultados del modelo combinado\n",
      "ABR Model| R2 sq on test set: 0.7481\n",
      "ABR Model| MSE on test set: 0.1489\n",
      "ABR Model| MAE on test set: 0.2871\n",
      "\n",
      "\n",
      "Resultados del modelo entrenado solo con la segunda mitad\n",
      "ABR Model| R2 sq on test set: 0.7680\n",
      "ABR Model| MSE on test set: 0.1371\n",
      "ABR Model| MAE on test set: 0.2736\n"
     ]
    },
    {
     "data": {
      "image/png": "[encoded data removed]",
      "text/plain": [
       "<Figure size 432x288 with 1 Axes>"
      ]
     },
     "metadata": {
      "needs_background": "light"
     },
     "output_type": "display_data"
    }
   ],
   "source": [
    "res(X,Y)"
   ]
  },
  {
   "cell_type": "code",
   "execution_count": null,
   "id": "ef087227",
   "metadata": {},
   "outputs": [],
   "source": []
  }
 ],
 "metadata": {
  "kernelspec": {
   "display_name": "Python 3 (ipykernel)",
   "language": "python",
   "name": "python3"
  },
  "language_info": {
   "codemirror_mode": {
    "name": "ipython",
    "version": 3
   },
   "file_extension": ".py",
   "mimetype": "text/x-python",
   "name": "python",
   "nbconvert_exporter": "python",
   "pygments_lexer": "ipython3",
   "version": "3.9.7"
  }
 },
 "nbformat": 4,
 "nbformat_minor": 5
}
